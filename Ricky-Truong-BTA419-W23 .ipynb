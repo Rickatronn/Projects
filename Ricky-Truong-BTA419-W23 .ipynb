{
 "cells": [
  {
   "cell_type": "code",
   "execution_count": 3,
   "metadata": {
    "_cell_guid": "b1076dfc-b9ad-4769-8c92-a6c4dae69d19",
    "_uuid": "8f2839f25d086af736a60e9eeb907d3b93b6e0e5",
    "execution": {
     "iopub.execute_input": "2023-01-30T01:31:56.289947Z",
     "iopub.status.busy": "2023-01-30T01:31:56.289530Z",
     "iopub.status.idle": "2023-01-30T01:31:56.298072Z",
     "shell.execute_reply": "2023-01-30T01:31:56.296752Z",
     "shell.execute_reply.started": "2023-01-30T01:31:56.289912Z"
    }
   },
   "outputs": [
    {
     "name": "stdout",
     "output_type": "stream",
     "text": [
      "/kaggle/input/dataset-for-bta-419-2023/BTA_419_2023_Data.csv\n"
     ]
    }
   ],
   "source": [
    "# This Python 3 environment comes with many helpful analytics libraries installed\n",
    "# It is defined by the kaggle/python Docker image: https://github.com/kaggle/docker-python\n",
    "# For example, here's several helpful packages to load\n",
    "\n",
    "import numpy as np # linear algebra\n",
    "import pandas as pd # data processing, CSV file I/O (e.g. pd.read_csv)\n",
    "\n",
    "# Input data files are available in the read-only \"../input/\" directory\n",
    "# For example, running this (by clicking run or pressing Shift+Enter) will list all files under the input directory\n",
    "\n",
    "import os\n",
    "for dirname, _, filenames in os.walk('/kaggle/input'):\n",
    "    for filename in filenames:\n",
    "        print(os.path.join(dirname, filename))\n",
    "\n",
    "# You can write up to 20GB to the current directory (/kaggle/working/) that gets preserved as output when you create a version using \"Save & Run All\" \n",
    "# You can also write temporary files to /kaggle/temp/, but they won't be saved outside of the current session"
   ]
  },
  {
   "cell_type": "markdown",
   "metadata": {},
   "source": [
    "# Project Introduction\n",
    "### About the Dataset\n",
    "The data is related with direct marketing campaigns (phone calls) of a Portuguese banking institution. The marketing campaigns were based on phone calls. Often, more than one contact to the same client was required, in order to access if the product (bank term deposit) would be ('yes') or not ('no') subscribed. The classification goal is to predict if the client will subscribe a term deposit (variable y).\n",
    "\n",
    "\n",
    "### What is a Term Deposit?  \n",
    "\"A term deposit, also known as a certificate of deposit (CD) or time deposit, is a low-risk, interest-bearing savings account. In most cases, term deposit holders place their funds into an account with a bank or financial institution and agree not to withdraw the funds until the maturity date (the end of the term). The funds can earn interest calculated based on the amount deposited and the term\" - [SoFi](https://www.sofi.com/learn/content/what-is-a-term-deposit/)\n",
    "\n",
    "\n",
    "### Goal of the project\n",
    "The primary goal of this project is to identify which data variables are most likely to sign up for a term deposit. To examine any correlations with the term deposit, I'll start by using straightforward statistical visualizations. In addition, a decision tree model and logistic regression will be utilized to determine results for my business question.\n",
    "\n",
    "\n",
    "### Source  \n",
    "\n",
    "Kaggle dataset used for this project: [https://www.kaggle.com/datasets/aikath/bank-data-test](https://www.kaggle.com/datasets/aikath/bank-data-test)\n",
    "  \n",
    " Original dataset: [http://archive.ics.uci.edu/ml/datasets/Bank+Marketing#](http://archive.ics.uci.edu/ml/datasets/Bank+Marketing#)\n",
    "\n",
    "\n",
    " ------------------------------------------------------------------------------------------------------------------------------------------------------\n",
    "### Business Question\n",
    "<span style=\"color:red\"> Do the client's age and job factor into their decision to subscribe to a term deposit? </span>\n",
    "### Executive Summary\n",
    "\n",
    "\n",
    "#### Decision Tree (Random Forest Model):  \n",
    "\n",
    "For my project, I chose to use a random forest model to help answer my business question about whether age and job variables play a role in subscribing to a term deposit. Among all the categories of bank data listed in the **Summary of Dataset Columns** below, the **Bank client data** category stood out to me the most, as demographic data can provide valuable insights into the behvaiors of various customer groups, helping to identify the target market for term deposit subscriptions. Regarding my choice of model, I selected the random forest model for several reasons:\n",
    "\n",
    "1) has high accuracy since it builds multiple decision trees instead of one  \n",
    "\n",
    "2) produces good predictions that can be understood easily  \n",
    "\n",
    "3) can handle large datasets efficiently\n",
    "\n",
    "In relation to demographic data, I want to use every variable except **default** as it's not relevant to my interests. Additionally, using multiple variables will be beneficial for the random forest model, as it requires a minimum of three to five variables to produce good performance. Although I could only use the age, job, and term deposit response variable for my model, the training and test set would be limited. The performance of the three variable model will still be acceptable, but it's good to have more variables as the output produces interesting results. In addition to the random forest model, featured importance was also utilized. \n",
    "\n",
    "\n",
    "#### Project Finding #1 (Random Forest/Feature Importance):\n",
    "- The accuracy score of our model is approximately **75%**\n",
    "- When checking variable importance with feature importance:\n",
    "    - **age** has the highest importance with approximately **60%**\n",
    "    - **job** has the second highest importance with approximately **17%**\n",
    "    - **education** has the third highest importance with approximately **11%**\n",
    "    - **marital** has the third least importance with approximately **5%**\n",
    "    - **housing** has the second least importance with approximately **3%**\n",
    "    - **loan** has the least importance with approximately **3%**  \n",
    "\n",
    "\n",
    "#### Confusion Matrix/Classification Report:\n",
    "To further evaluate the random forest model accuracy score **(75%)**, the confusion matrix and classification report was used. Even though the accuracy score isn't 100% perfect, the confusion matrix was balanced. If I had more time on this project, I would've adjusted some parameters to improve the accuracy score. The confusion matrix and classification report was to verify the random forest model performance was acceptable.\n",
    "\n",
    "In the confusion matrix:\n",
    "- **7,488 (top left)** and **9,056 (bottom right)** are the positive (actual) predictions the model made\n",
    "    - 9,056 clients subscribed\n",
    "    - 7,488 clients didn't subscribe\n",
    "- **3,517 (top right)** and **1,868 (bottom left)** are the negative (incorrect) predictions the model made\n",
    "    - 3,517 clients didn't subscribe\n",
    "    - 1,868 clients did subscribe\n",
    "\n",
    "In the classification report:\n",
    "- **Precision**\n",
    "    - **80%** of the predicted outcomes were classified negative\n",
    "    - **72%** of the predicted outcomes were classified positive\n",
    "- **Recall**\n",
    "    - **68%** of the negative outcomes were identified as \"didn't subcribe\"\n",
    "    - **83%** of the positive outcomes were identified as \"subscribed\"\n",
    "- **f1-score**\n",
    "    - weighted average for the \"didn't subcribe\" group was **74%**\n",
    "    - weighted average for the \"subscribed\" group was **77%**\n",
    "- **accuracy**\n",
    "    - overall accuracy of the random forest model is **75%**\n",
    "- **macro avg**\n",
    "    - precision, recall, and f1-score were around **75-76%**\n",
    "\n",
    "\n",
    "    \n",
    "#### Project Findings #2 (Age and Job group Feature Importance Analysis):\n",
    "- Since age and job has the highest importance plus relates to my business question, I categorize their values into subgroups to find any correlations:\n",
    "    - Majority of the clients who agreed to subscribe to a term deposit were in their middle ages **(between the ages of 30-60)**\n",
    "      - **9.72% (3,226)** of the middle age group population **(33,186)** subcribed to a term deposit  \n",
    "    - The teen and young adult age group has the most evenly distributed clients who both agreed and disagreed to a term deposit subscription\n",
    "      - **42.42% (14)** of the teen group population **(33)** subscribed to a term deposit\n",
    "      - **34.45% (72)** of the young adult group population **(209)** subscribed to a term deposit  \n",
    "    - If prioritizing between blue-collar and white-collar jobs, blue-collar jobs make up most of the dataset **(6,065)** compared to white-collar jobs **(2,516)**\n",
    "    - Blue-collar jobs has the highest count of term deposit subscriptions **(911 or 15.02%)** compared to white-collar jobs  with the lowest count of subscriptions **(230 or 9.14%)**\n",
    "\n",
    "\n",
    "<h4 align=\"center\">Age group</h4>\n",
    "\n",
    "| Subscribed? | No | Yes | Subscribed % |\n",
    "| :------: | :------: | :------: | :------: | \n",
    "| Teen | 19 | 14 | 42.42% |\n",
    "| Young Adult | 137 | 72 | 34.45% |\n",
    "| Official Adult | 6103 | 1038 | 14.54% |\n",
    "| Middle Age | 29960 | 3226 | 9.72% |\n",
    "| Elderly | 329 | 290 | 46.85% |\n",
    "\n",
    "\n",
    "\n",
    "<h4 align=\"center\">Job group</h4>\n",
    "\n",
    "| Subscribed? | No | Yes | Subscribed % |\n",
    "| :------: | :------: | :------: | :------: | \n",
    "| White-collar jobs | 2286 | 230 | 9.14% |\n",
    "| Blue-collar jobs | 5154 | 911 | 15.02% |\n",
    "| Other | 11422 | 1509 | 11.67% |\n",
    "\n"
   ]
  },
  {
   "cell_type": "markdown",
   "metadata": {},
   "source": [
    " ------------------------------------------------------------------------------------------------------------------------------------------------------"
   ]
  },
  {
   "cell_type": "markdown",
   "metadata": {},
   "source": [
    "# Summary of Dataset Columns  \n",
    "The following details provide a brief definition of each column.\n",
    "\n",
    "### Bank client data:\n",
    "1 - **age:** (numeric)  \n",
    "\n",
    "2 - **job:** type of job (categorical: 'admin.','blue-collar','entrepreneur','housemaid','management','retired','self-employed','services','student','technician','unemployed','unknown')  \n",
    "\n",
    "3 - **marital:** marital status (categorical: 'divorced','married','single','unknown'; note: 'divorced' means divorced or widowed)\n",
    "\n",
    "4 - **education:** (categorical: 'basic.4y','basic.6y','basic.9y','high.school','illiterate','professional.course','university.degree','unknown') \n",
    "\n",
    "5 - **default:** has credit in default? (categorical: 'no','yes','unknown')\n",
    "\n",
    "6 - **housing:** has housing loan? (categorical: 'no','yes','unknown')  \n",
    "\n",
    "7 - **loan:** has personal loan? (categorical: 'no','yes','unknown')\n",
    "\n",
    "### Related with the last contact of the current campaign:  \n",
    "8 - **contact:** contact communication type (categorical: 'cellular','telephone')  \n",
    "\n",
    "9 - **month:** last contact month of year (categorical: 'jan', 'feb', 'mar', ..., 'nov', 'dec') \n",
    "\n",
    "10 - **day_of_week:** last contact day of the week (categorical: 'mon','tue','wed','thu','fri')  \n",
    "\n",
    "11 - **duration:** last contact duration, in seconds (numeric). Important note: this attribute highly affects the output target (e.g., if duration=0 then y='no'). Yet, the duration is not known before a call is performed. Also, after the end of the call y is obviously known. Thus, this input should only be included for benchmark purposes and should be discarded if the intention is to have a realistic predictive model.  \n",
    "\n",
    "### Other attributes:\n",
    "12 - **campaign:** number of contacts performed during this campaign and for this client (numeric, includes last contact)  \n",
    "\n",
    "13 - **pdays:** number of days that passed by after the client was last contacted from a previous campaign (numeric; 999 means client was not previously contacted)  \n",
    "\n",
    "14 - **previous:** number of contacts performed before this campaign and for this client (numeric)  \n",
    "\n",
    "15 - **poutcome:** outcome of the previous marketing campaign (categorical: 'failure','nonexistent','success')  \n",
    "  \n",
    "### Social and Economic context attributes:\n",
    "16 - **emp.var.rate:** employment variation rate - quarterly indicator (numeric)  \n",
    "\n",
    "17 - **cons.price.idx:** consumer price index - monthly indicator (numeric)  \n",
    "\n",
    "18 - **cons.conf.idx:** consumer confidence index - monthly indicator (numeric)  \n",
    "\n",
    "19 - **euribor3m:** euribor 3 month rate - daily indicator (numeric)  \n",
    "\n",
    "20 - **nr.employed:** number of employees - quarterly indicator (numeric)  \n",
    "\n",
    "### Output variable (desired target):\n",
    "21 - **y** - has the client subscribed a term deposit? (binary: 'yes','no')\n"
   ]
  },
  {
   "cell_type": "markdown",
   "metadata": {},
   "source": [
    " ------------------------------------------------------------------------------------------------------------------------------------------------------"
   ]
  },
  {
   "cell_type": "markdown",
   "metadata": {},
   "source": [
    "# Data Exploration  \n",
    "Here are the initial steps I did to quickly examine the bank dataset before diving in deep.  \n",
    "  \n",
    "### Loading in the CSV file\n",
    "The CSV file must be loaded into the project as the first step by importing the Pandas function. From there, I called the function, <span style=\"color:blue;\"> .read_csv() </span> using the variable \"account\" to read the CSV file and turn it into a DataFrame object. I then returned the DataFrame by using the <span style=\"color:blue;\"> .head() </span> function to inspect the first five rows of the data. Executing the <span style=\"color:blue;\"> .head() </span> function allows me to get a sense of the DataFrame's contents and an overview of the data."
   ]
  },
  {
   "cell_type": "code",
   "execution_count": 3,
   "metadata": {
    "execution": {
     "iopub.execute_input": "2023-02-14T01:34:45.246542Z",
     "iopub.status.busy": "2023-02-14T01:34:45.245363Z",
     "iopub.status.idle": "2023-02-14T01:34:45.419980Z",
     "shell.execute_reply": "2023-02-14T01:34:45.418861Z",
     "shell.execute_reply.started": "2023-02-14T01:34:45.246479Z"
    }
   },
   "outputs": [
    {
     "data": {
      "text/html": [
       "<div>\n",
       "<style scoped>\n",
       "    .dataframe tbody tr th:only-of-type {\n",
       "        vertical-align: middle;\n",
       "    }\n",
       "\n",
       "    .dataframe tbody tr th {\n",
       "        vertical-align: top;\n",
       "    }\n",
       "\n",
       "    .dataframe thead th {\n",
       "        text-align: right;\n",
       "    }\n",
       "</style>\n",
       "<table border=\"1\" class=\"dataframe\">\n",
       "  <thead>\n",
       "    <tr style=\"text-align: right;\">\n",
       "      <th></th>\n",
       "      <th>age</th>\n",
       "      <th>job</th>\n",
       "      <th>marital</th>\n",
       "      <th>education</th>\n",
       "      <th>default</th>\n",
       "      <th>housing</th>\n",
       "      <th>loan</th>\n",
       "      <th>contact</th>\n",
       "      <th>month</th>\n",
       "      <th>day_of_week</th>\n",
       "      <th>...</th>\n",
       "      <th>campaign</th>\n",
       "      <th>pdays</th>\n",
       "      <th>previous</th>\n",
       "      <th>poutcome</th>\n",
       "      <th>emp.var.rate</th>\n",
       "      <th>cons.price.idx</th>\n",
       "      <th>cons.conf.idx</th>\n",
       "      <th>euribor3m</th>\n",
       "      <th>nr.employed</th>\n",
       "      <th>y</th>\n",
       "    </tr>\n",
       "  </thead>\n",
       "  <tbody>\n",
       "    <tr>\n",
       "      <th>0</th>\n",
       "      <td>56</td>\n",
       "      <td>housemaid</td>\n",
       "      <td>married</td>\n",
       "      <td>basic.4y</td>\n",
       "      <td>no</td>\n",
       "      <td>no</td>\n",
       "      <td>no</td>\n",
       "      <td>telephone</td>\n",
       "      <td>may</td>\n",
       "      <td>mon</td>\n",
       "      <td>...</td>\n",
       "      <td>1</td>\n",
       "      <td>999</td>\n",
       "      <td>0</td>\n",
       "      <td>nonexistent</td>\n",
       "      <td>1.1</td>\n",
       "      <td>93.994</td>\n",
       "      <td>-36.4</td>\n",
       "      <td>4.857</td>\n",
       "      <td>5191.0</td>\n",
       "      <td>no</td>\n",
       "    </tr>\n",
       "    <tr>\n",
       "      <th>1</th>\n",
       "      <td>57</td>\n",
       "      <td>services</td>\n",
       "      <td>married</td>\n",
       "      <td>high.school</td>\n",
       "      <td>unknown</td>\n",
       "      <td>no</td>\n",
       "      <td>no</td>\n",
       "      <td>telephone</td>\n",
       "      <td>may</td>\n",
       "      <td>mon</td>\n",
       "      <td>...</td>\n",
       "      <td>1</td>\n",
       "      <td>999</td>\n",
       "      <td>0</td>\n",
       "      <td>nonexistent</td>\n",
       "      <td>1.1</td>\n",
       "      <td>93.994</td>\n",
       "      <td>-36.4</td>\n",
       "      <td>4.857</td>\n",
       "      <td>5191.0</td>\n",
       "      <td>no</td>\n",
       "    </tr>\n",
       "    <tr>\n",
       "      <th>2</th>\n",
       "      <td>37</td>\n",
       "      <td>services</td>\n",
       "      <td>married</td>\n",
       "      <td>high.school</td>\n",
       "      <td>no</td>\n",
       "      <td>yes</td>\n",
       "      <td>no</td>\n",
       "      <td>telephone</td>\n",
       "      <td>may</td>\n",
       "      <td>mon</td>\n",
       "      <td>...</td>\n",
       "      <td>1</td>\n",
       "      <td>999</td>\n",
       "      <td>0</td>\n",
       "      <td>nonexistent</td>\n",
       "      <td>1.1</td>\n",
       "      <td>93.994</td>\n",
       "      <td>-36.4</td>\n",
       "      <td>4.857</td>\n",
       "      <td>5191.0</td>\n",
       "      <td>no</td>\n",
       "    </tr>\n",
       "    <tr>\n",
       "      <th>3</th>\n",
       "      <td>40</td>\n",
       "      <td>admin.</td>\n",
       "      <td>married</td>\n",
       "      <td>basic.6y</td>\n",
       "      <td>no</td>\n",
       "      <td>no</td>\n",
       "      <td>no</td>\n",
       "      <td>telephone</td>\n",
       "      <td>may</td>\n",
       "      <td>mon</td>\n",
       "      <td>...</td>\n",
       "      <td>1</td>\n",
       "      <td>999</td>\n",
       "      <td>0</td>\n",
       "      <td>nonexistent</td>\n",
       "      <td>1.1</td>\n",
       "      <td>93.994</td>\n",
       "      <td>-36.4</td>\n",
       "      <td>4.857</td>\n",
       "      <td>5191.0</td>\n",
       "      <td>no</td>\n",
       "    </tr>\n",
       "    <tr>\n",
       "      <th>4</th>\n",
       "      <td>56</td>\n",
       "      <td>services</td>\n",
       "      <td>married</td>\n",
       "      <td>high.school</td>\n",
       "      <td>no</td>\n",
       "      <td>no</td>\n",
       "      <td>yes</td>\n",
       "      <td>telephone</td>\n",
       "      <td>may</td>\n",
       "      <td>mon</td>\n",
       "      <td>...</td>\n",
       "      <td>1</td>\n",
       "      <td>999</td>\n",
       "      <td>0</td>\n",
       "      <td>nonexistent</td>\n",
       "      <td>1.1</td>\n",
       "      <td>93.994</td>\n",
       "      <td>-36.4</td>\n",
       "      <td>4.857</td>\n",
       "      <td>5191.0</td>\n",
       "      <td>no</td>\n",
       "    </tr>\n",
       "  </tbody>\n",
       "</table>\n",
       "<p>5 rows × 21 columns</p>\n",
       "</div>"
      ],
      "text/plain": [
       "   age        job  marital    education  default housing loan    contact  \\\n",
       "0   56  housemaid  married     basic.4y       no      no   no  telephone   \n",
       "1   57   services  married  high.school  unknown      no   no  telephone   \n",
       "2   37   services  married  high.school       no     yes   no  telephone   \n",
       "3   40     admin.  married     basic.6y       no      no   no  telephone   \n",
       "4   56   services  married  high.school       no      no  yes  telephone   \n",
       "\n",
       "  month day_of_week  ...  campaign  pdays  previous     poutcome emp.var.rate  \\\n",
       "0   may         mon  ...         1    999         0  nonexistent          1.1   \n",
       "1   may         mon  ...         1    999         0  nonexistent          1.1   \n",
       "2   may         mon  ...         1    999         0  nonexistent          1.1   \n",
       "3   may         mon  ...         1    999         0  nonexistent          1.1   \n",
       "4   may         mon  ...         1    999         0  nonexistent          1.1   \n",
       "\n",
       "   cons.price.idx  cons.conf.idx  euribor3m  nr.employed   y  \n",
       "0          93.994          -36.4      4.857       5191.0  no  \n",
       "1          93.994          -36.4      4.857       5191.0  no  \n",
       "2          93.994          -36.4      4.857       5191.0  no  \n",
       "3          93.994          -36.4      4.857       5191.0  no  \n",
       "4          93.994          -36.4      4.857       5191.0  no  \n",
       "\n",
       "[5 rows x 21 columns]"
      ]
     },
     "execution_count": 3,
     "metadata": {},
     "output_type": "execute_result"
    }
   ],
   "source": [
    "import pandas as pd\n",
    "account = pd.read_csv('/kaggle/input/dataset-for-bta-419-2023/BTA_419_2023_Data.csv')\n",
    "\n",
    "# returns the first few rows of the DataFrame. Useful to get a brief summary of the dataset\n",
    "account.head() \n"
   ]
  },
  {
   "cell_type": "markdown",
   "metadata": {},
   "source": [
    "### Description of the Dataset  \n",
    "In addition to the data overview, I used the function, <span style=\"color:blue;\"> .info() </span> to understand the structure and size of the dataset. Based on the code below, this dataset contains the following:   \n",
    "\n",
    "1. Has no null values since all of the columns are labeled non-null\n",
    "2. Contains 41,188 records and 20 columns. Out of the 20 columns, three types of columns exist:  \n",
    "\n",
    "    - **11 object columns (object)**\n",
    "        - job\n",
    "        - martial\n",
    "        - education\n",
    "        - default\n",
    "        - housing\n",
    "        - loan\n",
    "        - contact\n",
    "        - month\n",
    "        - day_of_week\n",
    "        - poutcome\n",
    "        - y  \n",
    "   \n",
    "    - **5 integer columns (int64)**\n",
    "        - age\n",
    "        - duration\n",
    "        - campaign\n",
    "        - pdays\n",
    "        - previous  \n",
    "        \n",
    "    - **5 float columns (float64)**\n",
    "        - emp.var.rate\n",
    "        - cons.price.idx\n",
    "        - cons.conf.idx\n",
    "        - euribor3m\n",
    "        - nr.employed  \n",
    "      \n",
    "      "
   ]
  },
  {
   "cell_type": "code",
   "execution_count": 12,
   "metadata": {
    "execution": {
     "iopub.execute_input": "2023-02-14T21:53:06.796403Z",
     "iopub.status.busy": "2023-02-14T21:53:06.795967Z",
     "iopub.status.idle": "2023-02-14T21:53:06.835924Z",
     "shell.execute_reply": "2023-02-14T21:53:06.834272Z",
     "shell.execute_reply.started": "2023-02-14T21:53:06.796369Z"
    }
   },
   "outputs": [
    {
     "name": "stdout",
     "output_type": "stream",
     "text": [
      "<class 'pandas.core.frame.DataFrame'>\n",
      "RangeIndex: 41188 entries, 0 to 41187\n",
      "Data columns (total 21 columns):\n",
      " #   Column          Non-Null Count  Dtype  \n",
      "---  ------          --------------  -----  \n",
      " 0   age             41188 non-null  int64  \n",
      " 1   job             41188 non-null  object \n",
      " 2   marital         41188 non-null  object \n",
      " 3   education       41188 non-null  object \n",
      " 4   default         41188 non-null  object \n",
      " 5   housing         41188 non-null  object \n",
      " 6   loan            41188 non-null  object \n",
      " 7   contact         41188 non-null  object \n",
      " 8   month           41188 non-null  object \n",
      " 9   day_of_week     41188 non-null  object \n",
      " 10  duration        41188 non-null  int64  \n",
      " 11  campaign        41188 non-null  int64  \n",
      " 12  pdays           41188 non-null  int64  \n",
      " 13  previous        41188 non-null  int64  \n",
      " 14  poutcome        41188 non-null  object \n",
      " 15  emp.var.rate    41188 non-null  float64\n",
      " 16  cons.price.idx  41188 non-null  float64\n",
      " 17  cons.conf.idx   41188 non-null  float64\n",
      " 18  euribor3m       41188 non-null  float64\n",
      " 19  nr.employed     41188 non-null  float64\n",
      " 20  y               41188 non-null  object \n",
      "dtypes: float64(5), int64(5), object(11)\n",
      "memory usage: 6.6+ MB\n"
     ]
    }
   ],
   "source": [
    "# .info is a method that outputs a summary of the csv file, such as: number of rows, columns, data types, and memory usage\n",
    "account.info()"
   ]
  },
  {
   "cell_type": "code",
   "execution_count": 6,
   "metadata": {
    "execution": {
     "iopub.execute_input": "2023-02-24T20:21:54.001901Z",
     "iopub.status.busy": "2023-02-24T20:21:54.001438Z",
     "iopub.status.idle": "2023-02-24T20:21:54.012072Z",
     "shell.execute_reply": "2023-02-24T20:21:54.010536Z",
     "shell.execute_reply.started": "2023-02-24T20:21:54.001867Z"
    }
   },
   "outputs": [
    {
     "data": {
      "text/plain": [
       "Index(['age', 'job', 'marital', 'education', 'default', 'housing', 'loan',\n",
       "       'contact', 'month', 'day_of_week', 'duration', 'campaign', 'pdays',\n",
       "       'previous', 'poutcome', 'emp.var.rate', 'cons.price.idx',\n",
       "       'cons.conf.idx', 'euribor3m', 'nr.employed', 'y'],\n",
       "      dtype='object')"
      ]
     },
     "execution_count": 6,
     "metadata": {},
     "output_type": "execute_result"
    }
   ],
   "source": [
    "# Looking at columns\n",
    "account.columns"
   ]
  },
  {
   "cell_type": "code",
   "execution_count": 8,
   "metadata": {
    "execution": {
     "iopub.execute_input": "2023-02-24T20:24:56.433444Z",
     "iopub.status.busy": "2023-02-24T20:24:56.433045Z",
     "iopub.status.idle": "2023-02-24T20:24:56.441721Z",
     "shell.execute_reply": "2023-02-24T20:24:56.440565Z",
     "shell.execute_reply.started": "2023-02-24T20:24:56.433413Z"
    }
   },
   "outputs": [
    {
     "data": {
      "text/plain": [
       "(41188, 21)"
      ]
     },
     "execution_count": 8,
     "metadata": {},
     "output_type": "execute_result"
    }
   ],
   "source": [
    "# Contains 41,188 records and 20 columns\n",
    "account.shape"
   ]
  },
  {
   "cell_type": "markdown",
   "metadata": {},
   "source": [
    "### Exploring Categorical Columns \n",
    "\n",
    "They're 11 categorical columns, and out of all of them, job has the highest categorical feature"
   ]
  },
  {
   "cell_type": "code",
   "execution_count": 22,
   "metadata": {
    "execution": {
     "iopub.execute_input": "2023-02-24T20:46:19.177447Z",
     "iopub.status.busy": "2023-02-24T20:46:19.176981Z",
     "iopub.status.idle": "2023-02-24T20:46:19.226569Z",
     "shell.execute_reply": "2023-02-24T20:46:19.224969Z",
     "shell.execute_reply.started": "2023-02-24T20:46:19.177413Z"
    }
   },
   "outputs": [
    {
     "name": "stdout",
     "output_type": "stream",
     "text": [
      "The 'job' column has 12 unique values.\n",
      "The 'marital' column has 4 unique values.\n",
      "The 'education' column has 8 unique values.\n",
      "The 'default' column has 3 unique values.\n",
      "The 'housing' column has 3 unique values.\n",
      "The 'loan' column has 3 unique values.\n",
      "The 'contact' column has 2 unique values.\n",
      "The 'month' column has 10 unique values.\n",
      "The 'day_of_week' column has 5 unique values.\n",
      "The 'poutcome' column has 3 unique values.\n",
      "The 'y' column has 2 unique values.\n"
     ]
    }
   ],
   "source": [
    "# COUNTING THE NUMBER OF UNIQUE VALUES IN EACH CATEGORICAL FEATURE\n",
    "\n",
    "print(\"The 'job' column has {} unique values.\".format(account['job'].nunique()))\n",
    "print(\"The 'marital' column has {} unique values.\".format(account['marital'].nunique()))\n",
    "print(\"The 'education' column has {} unique values.\".format(account['education'].nunique()))\n",
    "print(\"The 'default' column has {} unique values.\".format(account['default'].nunique()))\n",
    "print(\"The 'housing' column has {} unique values.\".format(account['housing'].nunique()))\n",
    "print(\"The 'loan' column has {} unique values.\".format(account['loan'].nunique()))\n",
    "print(\"The 'contact' column has {} unique values.\".format(account['contact'].nunique()))\n",
    "print(\"The 'month' column has {} unique values.\".format(account['month'].nunique()))\n",
    "print(\"The 'day_of_week' column has {} unique values.\".format(account['day_of_week'].nunique()))\n",
    "print(\"The 'poutcome' column has {} unique values.\".format(account['poutcome'].nunique()))\n",
    "print(\"The 'y' column has {} unique values.\".format(account['y'].nunique()))"
   ]
  },
  {
   "cell_type": "code",
   "execution_count": 27,
   "metadata": {
    "execution": {
     "iopub.execute_input": "2023-02-24T20:57:42.884277Z",
     "iopub.status.busy": "2023-02-24T20:57:42.883480Z",
     "iopub.status.idle": "2023-02-24T20:57:42.915413Z",
     "shell.execute_reply": "2023-02-24T20:57:42.914288Z",
     "shell.execute_reply.started": "2023-02-24T20:57:42.884218Z"
    }
   },
   "outputs": [
    {
     "name": "stdout",
     "output_type": "stream",
     "text": [
      "         job  marital    education  default housing loan    contact month  \\\n",
      "0  housemaid  married     basic.4y       no      no   no  telephone   may   \n",
      "1   services  married  high.school  unknown      no   no  telephone   may   \n",
      "2   services  married  high.school       no     yes   no  telephone   may   \n",
      "3     admin.  married     basic.6y       no      no   no  telephone   may   \n",
      "4   services  married  high.school       no      no  yes  telephone   may   \n",
      "\n",
      "  day_of_week     poutcome   y  \n",
      "0         mon  nonexistent  no  \n",
      "1         mon  nonexistent  no  \n",
      "2         mon  nonexistent  no  \n",
      "3         mon  nonexistent  no  \n",
      "4         mon  nonexistent  no  \n"
     ]
    }
   ],
   "source": [
    "# OUTPUTTING THE CATEGORICAL COLUMNS\n",
    "\n",
    "cat_account = account.select_dtypes(include=['object'])\n",
    "print(cat_account.head())"
   ]
  },
  {
   "cell_type": "markdown",
   "metadata": {},
   "source": [
    "### Exploring Numerical Columns \n",
    "\n",
    "They're 10 numerical columns"
   ]
  },
  {
   "cell_type": "code",
   "execution_count": 28,
   "metadata": {
    "execution": {
     "iopub.execute_input": "2023-02-24T20:57:44.729058Z",
     "iopub.status.busy": "2023-02-24T20:57:44.728283Z",
     "iopub.status.idle": "2023-02-24T20:57:44.755727Z",
     "shell.execute_reply": "2023-02-24T20:57:44.753481Z",
     "shell.execute_reply.started": "2023-02-24T20:57:44.728996Z"
    }
   },
   "outputs": [
    {
     "name": "stdout",
     "output_type": "stream",
     "text": [
      "   age  duration  campaign  pdays  previous  emp.var.rate  cons.price.idx  \\\n",
      "0   56       261         1    999         0           1.1          93.994   \n",
      "1   57       149         1    999         0           1.1          93.994   \n",
      "2   37       226         1    999         0           1.1          93.994   \n",
      "3   40       151         1    999         0           1.1          93.994   \n",
      "4   56       307         1    999         0           1.1          93.994   \n",
      "\n",
      "   cons.conf.idx  euribor3m  nr.employed  \n",
      "0          -36.4      4.857       5191.0  \n",
      "1          -36.4      4.857       5191.0  \n",
      "2          -36.4      4.857       5191.0  \n",
      "3          -36.4      4.857       5191.0  \n",
      "4          -36.4      4.857       5191.0  \n"
     ]
    }
   ],
   "source": [
    "# OUTPUTTING THE NUMERICAL COLUMNS\n",
    "\n",
    "num_account = account.select_dtypes(include=['number'])\n",
    "print(num_account.head())"
   ]
  },
  {
   "cell_type": "markdown",
   "metadata": {},
   "source": [
    " ------------------------------------------------------------------------------------------------------------------------------------------------------"
   ]
  },
  {
   "cell_type": "markdown",
   "metadata": {},
   "source": [
    "# Part 1: Statistical Visualization\n",
    "The following sections below consists of exploring interested variables that may display correlation to a term deposit subsccription. Out of all the variables from the bank dataset, these are the variables I'm interested in for further analysis, espcially the relationship between \"y\", \"age\", and \"job\":\n",
    "- **y** (yes or no response to subscribing to a term deposit)\n",
    "- **age**\n",
    "- **marital** \n",
    "- **job**\n",
    "- **education**\n",
    "- **housing** (yes or no response to having housing loans)\n",
    "- **loan** (yes or no response to having personal loans)\n"
   ]
  },
  {
   "cell_type": "markdown",
   "metadata": {},
   "source": [
    "### Term Deposit Subscription\n",
    "**89%** of the clients have not subcribed to a term deposit while **11%** of the clients have subscribed\n",
    "\n"
   ]
  },
  {
   "cell_type": "code",
   "execution_count": 11,
   "metadata": {
    "execution": {
     "iopub.execute_input": "2023-02-26T00:12:28.843948Z",
     "iopub.status.busy": "2023-02-26T00:12:28.843561Z",
     "iopub.status.idle": "2023-02-26T00:12:28.980808Z",
     "shell.execute_reply": "2023-02-26T00:12:28.980062Z",
     "shell.execute_reply.started": "2023-02-26T00:12:28.843920Z"
    }
   },
   "outputs": [
    {
     "data": {
      "text/plain": [
       "Text(0, 0.5, 'Count')"
      ]
     },
     "execution_count": 11,
     "metadata": {},
     "output_type": "execute_result"
    },
    {
     "data": {
      "image/png": "[encoded data removed]",
      "text/plain": [
       "<Figure size 432x288 with 1 Axes>"
      ]
     },
     "metadata": {
      "needs_background": "light"
     },
     "output_type": "display_data"
    }
   ],
   "source": [
    "# BAR PLOT OF TERM DEPOSIT SUBSCRIPTION\n",
    "\n",
    "# importing data visualization module, seaborn to create plots\n",
    "import seaborn as sns \n",
    "\n",
    "plt.figure(figsize=(6, 4)) #increase plot size with a width of 6 in and height of 4 in\n",
    "sns.countplot(data = account, x ='y')\n",
    "\n",
    "# Adding plot title and labels\n",
    "plt.title(\"Term Deposit Subscription\", fontsize = 12)\n",
    "plt.xlabel(\"Clients who subscribed\", fontsize = 12)\n",
    "plt.ylabel(\"Count\", fontsize = 12)"
   ]
  },
  {
   "cell_type": "code",
   "execution_count": 4,
   "metadata": {
    "execution": {
     "iopub.execute_input": "2023-03-05T18:20:39.060875Z",
     "iopub.status.busy": "2023-03-05T18:20:39.060449Z",
     "iopub.status.idle": "2023-03-05T18:20:39.187725Z",
     "shell.execute_reply": "2023-03-05T18:20:39.186580Z",
     "shell.execute_reply.started": "2023-03-05T18:20:39.060821Z"
    }
   },
   "outputs": [
    {
     "name": "stdout",
     "output_type": "stream",
     "text": [
      "     Count   Decimal\n",
      "no   36548  0.887346\n",
      "yes   4640  0.112654\n"
     ]
    }
   ],
   "source": [
    "# counting the number of clients with count and decimals\n",
    "y_count = account[\"y\"].value_counts()\n",
    "y_decimal = y_count / len(account)\n",
    "\n",
    "# creating a new DataFrame with counts and decimal values for each column\n",
    "y_table = pd.DataFrame({'Count': y_count, 'Decimal': y_decimal})\n",
    "\n",
    "print(y_table)\n"
   ]
  },
  {
   "cell_type": "markdown",
   "metadata": {},
   "source": [
    "### Age Distribution\n",
    "\n",
    "Based on the summary statistic and histogram, the:\n",
    "- Minimum age is **17 years old**\n",
    "- Maximum age is **98 years old**\n",
    "- Average age is approximately **40 years old**"
   ]
  },
  {
   "cell_type": "code",
   "execution_count": 8,
   "metadata": {
    "execution": {
     "iopub.execute_input": "2023-02-26T00:11:23.024507Z",
     "iopub.status.busy": "2023-02-26T00:11:23.024127Z",
     "iopub.status.idle": "2023-02-26T00:11:23.215474Z",
     "shell.execute_reply": "2023-02-26T00:11:23.214547Z",
     "shell.execute_reply.started": "2023-02-26T00:11:23.024478Z"
    }
   },
   "outputs": [
    {
     "data": {
      "image/png": "[encoded data removed]",
      "text/plain": [
       "<Figure size 720x576 with 1 Axes>"
      ]
     },
     "metadata": {
      "needs_background": "light"
     },
     "output_type": "display_data"
    }
   ],
   "source": [
    "# HISTOGRAM OF AGE\n",
    "\n",
    "import matplotlib.pyplot as plt\n",
    "plt.figure(figsize=(10, 8)) #increase plot size with a width of 10 in and height of 8 in\n",
    "account[\"age\"].hist(bins=20) #bins is the number of bars displayed on the histogram\n",
    "\n",
    "# Adding plot title and labels\n",
    "plt.title(\"Age Distribution\", fontsize = 14)\n",
    "plt.xlabel(\"Age\", fontsize = 14)\n",
    "plt.ylabel(\"Count\", fontsize = 14)\n",
    "\n",
    "plt.show()"
   ]
  },
  {
   "cell_type": "code",
   "execution_count": 11,
   "metadata": {
    "execution": {
     "iopub.execute_input": "2023-02-14T21:53:00.771454Z",
     "iopub.status.busy": "2023-02-14T21:53:00.770961Z",
     "iopub.status.idle": "2023-02-14T21:53:00.828395Z",
     "shell.execute_reply": "2023-02-14T21:53:00.826828Z",
     "shell.execute_reply.started": "2023-02-14T21:53:00.771417Z"
    }
   },
   "outputs": [
    {
     "data": {
      "text/html": [
       "<div>\n",
       "<style scoped>\n",
       "    .dataframe tbody tr th:only-of-type {\n",
       "        vertical-align: middle;\n",
       "    }\n",
       "\n",
       "    .dataframe tbody tr th {\n",
       "        vertical-align: top;\n",
       "    }\n",
       "\n",
       "    .dataframe thead th {\n",
       "        text-align: right;\n",
       "    }\n",
       "</style>\n",
       "<table border=\"1\" class=\"dataframe\">\n",
       "  <thead>\n",
       "    <tr style=\"text-align: right;\">\n",
       "      <th></th>\n",
       "      <th>age</th>\n",
       "      <th>duration</th>\n",
       "      <th>campaign</th>\n",
       "      <th>pdays</th>\n",
       "      <th>previous</th>\n",
       "      <th>emp.var.rate</th>\n",
       "      <th>cons.price.idx</th>\n",
       "      <th>cons.conf.idx</th>\n",
       "      <th>euribor3m</th>\n",
       "      <th>nr.employed</th>\n",
       "    </tr>\n",
       "  </thead>\n",
       "  <tbody>\n",
       "    <tr>\n",
       "      <th>count</th>\n",
       "      <td>41188.00000</td>\n",
       "      <td>41188.000000</td>\n",
       "      <td>41188.000000</td>\n",
       "      <td>41188.000000</td>\n",
       "      <td>41188.000000</td>\n",
       "      <td>41188.000000</td>\n",
       "      <td>41188.000000</td>\n",
       "      <td>41188.000000</td>\n",
       "      <td>41188.000000</td>\n",
       "      <td>41188.000000</td>\n",
       "    </tr>\n",
       "    <tr>\n",
       "      <th>mean</th>\n",
       "      <td>40.02406</td>\n",
       "      <td>258.285010</td>\n",
       "      <td>2.567593</td>\n",
       "      <td>962.475454</td>\n",
       "      <td>0.172963</td>\n",
       "      <td>0.081886</td>\n",
       "      <td>93.575664</td>\n",
       "      <td>-40.502600</td>\n",
       "      <td>3.621291</td>\n",
       "      <td>5167.035911</td>\n",
       "    </tr>\n",
       "    <tr>\n",
       "      <th>std</th>\n",
       "      <td>10.42125</td>\n",
       "      <td>259.279249</td>\n",
       "      <td>2.770014</td>\n",
       "      <td>186.910907</td>\n",
       "      <td>0.494901</td>\n",
       "      <td>1.570960</td>\n",
       "      <td>0.578840</td>\n",
       "      <td>4.628198</td>\n",
       "      <td>1.734447</td>\n",
       "      <td>72.251528</td>\n",
       "    </tr>\n",
       "    <tr>\n",
       "      <th>min</th>\n",
       "      <td>17.00000</td>\n",
       "      <td>0.000000</td>\n",
       "      <td>1.000000</td>\n",
       "      <td>0.000000</td>\n",
       "      <td>0.000000</td>\n",
       "      <td>-3.400000</td>\n",
       "      <td>92.201000</td>\n",
       "      <td>-50.800000</td>\n",
       "      <td>0.634000</td>\n",
       "      <td>4963.600000</td>\n",
       "    </tr>\n",
       "    <tr>\n",
       "      <th>25%</th>\n",
       "      <td>32.00000</td>\n",
       "      <td>102.000000</td>\n",
       "      <td>1.000000</td>\n",
       "      <td>999.000000</td>\n",
       "      <td>0.000000</td>\n",
       "      <td>-1.800000</td>\n",
       "      <td>93.075000</td>\n",
       "      <td>-42.700000</td>\n",
       "      <td>1.344000</td>\n",
       "      <td>5099.100000</td>\n",
       "    </tr>\n",
       "    <tr>\n",
       "      <th>50%</th>\n",
       "      <td>38.00000</td>\n",
       "      <td>180.000000</td>\n",
       "      <td>2.000000</td>\n",
       "      <td>999.000000</td>\n",
       "      <td>0.000000</td>\n",
       "      <td>1.100000</td>\n",
       "      <td>93.749000</td>\n",
       "      <td>-41.800000</td>\n",
       "      <td>4.857000</td>\n",
       "      <td>5191.000000</td>\n",
       "    </tr>\n",
       "    <tr>\n",
       "      <th>75%</th>\n",
       "      <td>47.00000</td>\n",
       "      <td>319.000000</td>\n",
       "      <td>3.000000</td>\n",
       "      <td>999.000000</td>\n",
       "      <td>0.000000</td>\n",
       "      <td>1.400000</td>\n",
       "      <td>93.994000</td>\n",
       "      <td>-36.400000</td>\n",
       "      <td>4.961000</td>\n",
       "      <td>5228.100000</td>\n",
       "    </tr>\n",
       "    <tr>\n",
       "      <th>max</th>\n",
       "      <td>98.00000</td>\n",
       "      <td>4918.000000</td>\n",
       "      <td>56.000000</td>\n",
       "      <td>999.000000</td>\n",
       "      <td>7.000000</td>\n",
       "      <td>1.400000</td>\n",
       "      <td>94.767000</td>\n",
       "      <td>-26.900000</td>\n",
       "      <td>5.045000</td>\n",
       "      <td>5228.100000</td>\n",
       "    </tr>\n",
       "  </tbody>\n",
       "</table>\n",
       "</div>"
      ],
      "text/plain": [
       "               age      duration      campaign         pdays      previous  \\\n",
       "count  41188.00000  41188.000000  41188.000000  41188.000000  41188.000000   \n",
       "mean      40.02406    258.285010      2.567593    962.475454      0.172963   \n",
       "std       10.42125    259.279249      2.770014    186.910907      0.494901   \n",
       "min       17.00000      0.000000      1.000000      0.000000      0.000000   \n",
       "25%       32.00000    102.000000      1.000000    999.000000      0.000000   \n",
       "50%       38.00000    180.000000      2.000000    999.000000      0.000000   \n",
       "75%       47.00000    319.000000      3.000000    999.000000      0.000000   \n",
       "max       98.00000   4918.000000     56.000000    999.000000      7.000000   \n",
       "\n",
       "       emp.var.rate  cons.price.idx  cons.conf.idx     euribor3m   nr.employed  \n",
       "count  41188.000000    41188.000000   41188.000000  41188.000000  41188.000000  \n",
       "mean       0.081886       93.575664     -40.502600      3.621291   5167.035911  \n",
       "std        1.570960        0.578840       4.628198      1.734447     72.251528  \n",
       "min       -3.400000       92.201000     -50.800000      0.634000   4963.600000  \n",
       "25%       -1.800000       93.075000     -42.700000      1.344000   5099.100000  \n",
       "50%        1.100000       93.749000     -41.800000      4.857000   5191.000000  \n",
       "75%        1.400000       93.994000     -36.400000      4.961000   5228.100000  \n",
       "max        1.400000       94.767000     -26.900000      5.045000   5228.100000  "
      ]
     },
     "execution_count": 11,
     "metadata": {},
     "output_type": "execute_result"
    }
   ],
   "source": [
    "# The describe method computes some summary statistics for numerical columns\n",
    "account.describe()"
   ]
  },
  {
   "cell_type": "markdown",
   "metadata": {},
   "source": [
    "### Marital Status\n",
    "\n",
    "The bar plot shown above shows the following marital status:\n",
    "- **60% (24,928)** clients are married\n",
    "- **28% (11,568)** clients are single\n",
    "- **11% (4,612)** clients are divorced"
   ]
  },
  {
   "cell_type": "code",
   "execution_count": 6,
   "metadata": {
    "execution": {
     "iopub.execute_input": "2023-03-04T23:35:55.199898Z",
     "iopub.status.busy": "2023-03-04T23:35:55.198989Z",
     "iopub.status.idle": "2023-03-04T23:35:55.221332Z",
     "shell.execute_reply": "2023-03-04T23:35:55.219821Z",
     "shell.execute_reply.started": "2023-03-04T23:35:55.199860Z"
    }
   },
   "outputs": [
    {
     "name": "stdout",
     "output_type": "stream",
     "text": [
      "          Count   Decimal\n",
      "married   23733  0.605851\n",
      "single    11025  0.281444\n",
      "divorced   4415  0.112705\n"
     ]
    }
   ],
   "source": [
    "# counting marital status in counts decimal\n",
    "marital_count = account[\"marital\"].value_counts()\n",
    "marital_decimal = marital_count / len(account)\n",
    "\n",
    "# dropping the \"unknown\" row in marital status\n",
    "account = account.drop(account[account.marital.isin(['unknown'])].index)\n",
    "\n",
    "# creating a new DataFrame with counts and decimal values \n",
    "marital_table = pd.DataFrame({'Count': marital_count, 'Decimal': marital_decimal})\n",
    "\n",
    "print(marital_table)"
   ]
  },
  {
   "cell_type": "markdown",
   "metadata": {},
   "source": [
    "### Job \n",
    "According to the job table below, adminstrators make up **25%** of the dataframe"
   ]
  },
  {
   "cell_type": "code",
   "execution_count": 4,
   "metadata": {
    "execution": {
     "iopub.execute_input": "2023-03-04T23:35:07.240795Z",
     "iopub.status.busy": "2023-03-04T23:35:07.240332Z",
     "iopub.status.idle": "2023-03-04T23:35:07.263650Z",
     "shell.execute_reply": "2023-03-04T23:35:07.262235Z",
     "shell.execute_reply.started": "2023-03-04T23:35:07.240755Z"
    }
   },
   "outputs": [
    {
     "name": "stdout",
     "output_type": "stream",
     "text": [
      "               Count   Decimal\n",
      "admin.         10172  0.259225\n",
      "blue-collar     8792  0.224057\n",
      "technician      6531  0.166437\n",
      "services        3819  0.097324\n",
      "management      2801  0.071381\n",
      "retired         1619  0.041259\n",
      "entrepreneur    1397  0.035601\n",
      "self-employed   1389  0.035398\n",
      "housemaid       1017  0.025917\n",
      "unemployed       995  0.025357\n",
      "student          708  0.018043\n"
     ]
    }
   ],
   "source": [
    "# counting job in counts and decimal\n",
    "job_count = account[\"job\"].value_counts()\n",
    "job_decimal = job_count / len(account)\n",
    "\n",
    "# dropping the \"unknown\" row in job\n",
    "account = account.drop(account[account.job.isin(['unknown'])].index)\n",
    "\n",
    "# creating a new DataFrame with counts and decimal values \n",
    "job_table = pd.DataFrame({'Count': job_count, 'Decimal': job_decimal})\n",
    "\n",
    "print(job_table)"
   ]
  },
  {
   "cell_type": "markdown",
   "metadata": {},
   "source": [
    "### Education\n",
    "Clients with university degrees make up approximately **30%** of the dataframe"
   ]
  },
  {
   "cell_type": "code",
   "execution_count": 2,
   "metadata": {
    "execution": {
     "iopub.execute_input": "2023-03-04T23:32:05.442130Z",
     "iopub.status.busy": "2023-03-04T23:32:05.441626Z",
     "iopub.status.idle": "2023-03-04T23:32:05.473000Z",
     "shell.execute_reply": "2023-03-04T23:32:05.471448Z",
     "shell.execute_reply.started": "2023-03-04T23:32:05.442092Z"
    }
   },
   "outputs": [
    {
     "name": "stdout",
     "output_type": "stream",
     "text": [
      "                     Count   Decimal\n",
      "university.degree    12168  0.308527\n",
      "high.school           9515  0.241259\n",
      "basic.9y              6045  0.153275\n",
      "professional.course   5243  0.132939\n",
      "basic.4y              4176  0.105885\n",
      "basic.6y              2292  0.058115\n"
     ]
    }
   ],
   "source": [
    "# dropping the \"unknown\" and \"illiterate\" row in education\n",
    "account = account.drop(account[account.education.isin(['unknown', 'illiterate'])].index)\n",
    "\n",
    "# counting education in counts and decimal\n",
    "education_count = account[\"education\"].value_counts()\n",
    "education_decimal = education_count / len(account)\n",
    "\n",
    "# creating a new DataFrame with counts and decimal values \n",
    "education_table = pd.DataFrame({'Count': education_count, 'Decimal': education_decimal})\n",
    "\n",
    "print(education_table)"
   ]
  },
  {
   "cell_type": "markdown",
   "metadata": {},
   "source": [
    "### Housing\n",
    "**54%** of clients owes a housing loan and **46%** of clients don't."
   ]
  },
  {
   "cell_type": "code",
   "execution_count": 6,
   "metadata": {
    "execution": {
     "iopub.execute_input": "2023-03-07T04:28:05.627634Z",
     "iopub.status.busy": "2023-03-07T04:28:05.627157Z",
     "iopub.status.idle": "2023-03-07T04:28:05.774793Z",
     "shell.execute_reply": "2023-03-07T04:28:05.773875Z",
     "shell.execute_reply.started": "2023-03-07T04:28:05.627596Z"
    }
   },
   "outputs": [
    {
     "name": "stdout",
     "output_type": "stream",
     "text": [
      "     Count   Decimal\n",
      "yes  21576  0.536743\n",
      "no   18622  0.463257\n"
     ]
    }
   ],
   "source": [
    "# counting housing in counts and decimal\n",
    "housing_count = account[\"housing\"].value_counts()\n",
    "housing_decimal = housing_count / len(account)\n",
    "\n",
    "# dropping the \"unknown\" row in housing\n",
    "account = account.drop(account[account.housing.isin(['unknown'])].index)\n",
    "\n",
    "# Recalculating housing count and decimal \n",
    "housing_count = account['housing'].value_counts()\n",
    "housing_decimal = housing_count / len(account)\n",
    "\n",
    "# creating a new DataFrame with counts and decimal values \n",
    "housing_table = pd.DataFrame({'Count': housing_count, 'Decimal': housing_decimal})\n",
    "\n",
    "print(housing_table)"
   ]
  },
  {
   "cell_type": "markdown",
   "metadata": {},
   "source": [
    "### Loans\n",
    "In the loan table below, **16%** of our clients owe personal loans while **84%** of clients don't. "
   ]
  },
  {
   "cell_type": "code",
   "execution_count": 7,
   "metadata": {
    "execution": {
     "iopub.execute_input": "2023-03-07T04:28:22.538394Z",
     "iopub.status.busy": "2023-03-07T04:28:22.537924Z",
     "iopub.status.idle": "2023-03-07T04:28:22.562769Z",
     "shell.execute_reply": "2023-03-07T04:28:22.561661Z",
     "shell.execute_reply.started": "2023-03-07T04:28:22.538358Z"
    }
   },
   "outputs": [
    {
     "name": "stdout",
     "output_type": "stream",
     "text": [
      "     Count   Decimal\n",
      "no   33950  0.844569\n",
      "yes   6248  0.155431\n"
     ]
    }
   ],
   "source": [
    "# counting loan in counts and decimal\n",
    "loan_count = account['loan'].value_counts()\n",
    "loan_decimal = loan_count / len(account)\n",
    "\n",
    "# dropping the \"unknown\" row in loans\n",
    "account = account.drop(account[account.loan.isin(['unknown'])].index)\n",
    "\n",
    "# Recalculating loan count and decimal \n",
    "loan_count = account['loan'].value_counts()\n",
    "loan_decimal = loan_count / len(account)\n",
    "\n",
    "# creating a new DataFrame with counts and decimal \n",
    "loan_table = pd.DataFrame({'Count': loan_count, 'Decimal': loan_decimal})\n",
    "\n",
    "print(loan_table)"
   ]
  },
  {
   "cell_type": "markdown",
   "metadata": {},
   "source": [
    " ------------------------------------------------------------------------------------------------------------------------------------------------------"
   ]
  },
  {
   "cell_type": "markdown",
   "metadata": {},
   "source": [
    "# Part 2: Variable Relationship to Term Deposit Subscription\n",
    "The next section is exploring the relationship between the selected variables and term deposit subscription to find any patterns before conducting my model. "
   ]
  },
  {
   "cell_type": "markdown",
   "metadata": {},
   "source": [
    "### Relationship between Age & Term Deposit Subscription \n",
    "\n",
    "Clients in the age range between **30-35** are more likely to subscribe to a term deposit."
   ]
  },
  {
   "cell_type": "code",
   "execution_count": 24,
   "metadata": {
    "execution": {
     "iopub.execute_input": "2023-03-05T00:01:56.338714Z",
     "iopub.status.busy": "2023-03-05T00:01:56.337211Z",
     "iopub.status.idle": "2023-03-05T00:01:56.729705Z",
     "shell.execute_reply": "2023-03-05T00:01:56.728355Z",
     "shell.execute_reply.started": "2023-03-05T00:01:56.338656Z"
    }
   },
   "outputs": [
    {
     "data": {
      "image/png": "[encoded data removed]",
      "text/plain": [
       "<Figure size 1296x720 with 1 Axes>"
      ]
     },
     "metadata": {
      "needs_background": "light"
     },
     "output_type": "display_data"
    }
   ],
   "source": [
    "# selecting the rows of the y column that has either yes or no\n",
    "subscribed = account[account[\"y\"] == \"yes\"]\n",
    "not_subscribed = account[account[\"y\"] == \"no\"]\n",
    "\n",
    "# Creating a new figure and subplot\n",
    "figures, x = plt.subplots(figsize = (18, 10))  #increase plot size with a width of 10 in and height of 8 in\n",
    "\n",
    "# Histogram of the relationship between age and term deposit subscription\n",
    "hist2 = x.hist(not_subscribed[\"age\"], color = \"blue\", alpha = 0.8, bins = 20, edgecolor = \"white\")\n",
    "hist1 = x.hist(subscribed[\"age\"], color = \"orange\", alpha = 1.0, bins = 20, edgecolor = \"white\")\n",
    "\n",
    "# Adding plot title and labels\n",
    "plt.title(\"Age Distribution\", fontsize = 16)\n",
    "plt.xlabel(\"Age\", fontsize = 16)\n",
    "plt.ylabel(\"Count\", fontsize = 16)\n",
    "plt.legend([\"No\", \"Yes\"])\n",
    "\n",
    "plt.show()"
   ]
  },
  {
   "cell_type": "markdown",
   "metadata": {},
   "source": [
    "### Relationship between Marital Status & Term Deposit Subscription \n",
    "\n",
    "Clients who are married are more likely to subcribe to a term deposit **(55%)** compared to clients who are single **(35%)** or divorced **(10%)**. "
   ]
  },
  {
   "cell_type": "code",
   "execution_count": 31,
   "metadata": {
    "execution": {
     "iopub.execute_input": "2023-03-07T05:47:51.191411Z",
     "iopub.status.busy": "2023-03-07T05:47:51.190237Z",
     "iopub.status.idle": "2023-03-07T05:47:51.470903Z",
     "shell.execute_reply": "2023-03-07T05:47:51.469578Z",
     "shell.execute_reply.started": "2023-03-07T05:47:51.191370Z"
    }
   },
   "outputs": [
    {
     "data": {
      "text/plain": [
       "Text(0, 0.5, 'Term Deposit Subscription')"
      ]
     },
     "execution_count": 31,
     "metadata": {},
     "output_type": "execute_result"
    },
    {
     "data": {
      "image/png": "[encoded data removed]",
      "text/plain": [
       "<Figure size 864x576 with 1 Axes>"
      ]
     },
     "metadata": {
      "needs_background": "light"
     },
     "output_type": "display_data"
    }
   ],
   "source": [
    "# dropping the \"unknown\" row in marital status\n",
    "account = account.drop(account[account.marital.isin(['unknown'])].index)\n",
    "\n",
    "#increasing plot size with a width of 12 in and height of 8 in\n",
    "plt.figure(figsize=(12, 8)) \n",
    "sns.countplot(data=account, x='marital', hue='y')\n",
    "\n",
    "# Adding plot title and labels\n",
    "plt.title(\"Marital Status vs Term Deposit Subscription\")\n",
    "plt.legend([\"No\", \"Yes\"])\n",
    "plt.xlabel(\"Client Marital Status\", fontsize = 14)\n",
    "plt.ylabel(\"Term Deposit Subscription\", fontsize = 14)"
   ]
  },
  {
   "cell_type": "code",
   "execution_count": 11,
   "metadata": {
    "execution": {
     "iopub.execute_input": "2023-03-04T23:38:40.437755Z",
     "iopub.status.busy": "2023-03-04T23:38:40.436602Z",
     "iopub.status.idle": "2023-03-04T23:38:40.489225Z",
     "shell.execute_reply": "2023-03-04T23:38:40.487954Z",
     "shell.execute_reply.started": "2023-03-04T23:38:40.437709Z"
    }
   },
   "outputs": [
    {
     "name": "stdout",
     "output_type": "stream",
     "text": [
      "               Yes        No\n",
      "married   0.545690  0.612783\n",
      "single    0.349138  0.272190\n",
      "divorced  0.102586  0.113166\n"
     ]
    }
   ],
   "source": [
    "# creating marital table\n",
    "marital_table['Yes'] = account[account['y'] == 'yes']['marital'].value_counts() / len(account[account['y'] == 'yes'])\n",
    "marital_table['No'] = account[account['y'] == 'no']['marital'].value_counts() / len(account[account['y'] == 'no'])\n",
    "\n",
    "# keeping only the Yes and No columns using .loc\n",
    "marital_table = marital_table.loc[:, ['Yes', 'No']]\n",
    "\n",
    "print(marital_table)"
   ]
  },
  {
   "cell_type": "markdown",
   "metadata": {},
   "source": [
    "### Relationship between Jobs & Term Deposit Subscription \n",
    "\n",
    "Administrators **(30%)**, blue-collar **(14%)**, and technicians **(16%)** are the top three jobs with a high term deposit subscription rate. "
   ]
  },
  {
   "cell_type": "code",
   "execution_count": 29,
   "metadata": {
    "execution": {
     "iopub.execute_input": "2023-03-07T05:32:20.648402Z",
     "iopub.status.busy": "2023-03-07T05:32:20.647958Z",
     "iopub.status.idle": "2023-03-07T05:32:20.980303Z",
     "shell.execute_reply": "2023-03-07T05:32:20.979157Z",
     "shell.execute_reply.started": "2023-03-07T05:32:20.648366Z"
    }
   },
   "outputs": [
    {
     "data": {
      "image/png": "[encoded data removed]",
      "text/plain": [
       "<Figure size 1296x720 with 1 Axes>"
      ]
     },
     "metadata": {
      "needs_background": "light"
     },
     "output_type": "display_data"
    }
   ],
   "source": [
    "# dropping the \"unknown\" row in job\n",
    "account = account.drop(account[account.job.isin(['unknown'])].index)\n",
    "\n",
    "# selecting the rows of the y column with yes or no\n",
    "subscribed = account[account[\"y\"] == \"yes\"]\n",
    "not_subscribed = account[account[\"y\"] == \"no\"]\n",
    "\n",
    "# counting the number of occurrences of each job \n",
    "subscribed_counts = subscribed['job'].value_counts()\n",
    "not_subscribed_counts = not_subscribed['job'].value_counts()\n",
    "\n",
    "# combining the counts into a single dataframe\n",
    "df = pd.DataFrame({'Yes': subscribed_counts, 'No': not_subscribed_counts})\n",
    "\n",
    "# creating a stacked side bar graph\n",
    "ax = df.plot(kind='bar', stacked=True, figsize=(18, 10), color = ['blue', 'orange'])\n",
    "\n",
    "# Adding plot title and labels\n",
    "plt.title(\"Job Distribution\", fontsize = 16)\n",
    "plt.xlabel(\"Job\", fontsize = 16)\n",
    "plt.ylabel(\"Count\", fontsize = 16)\n",
    "\n",
    "plt.show()"
   ]
  },
  {
   "cell_type": "code",
   "execution_count": 47,
   "metadata": {
    "execution": {
     "iopub.execute_input": "2023-03-05T00:55:01.540967Z",
     "iopub.status.busy": "2023-03-05T00:55:01.540480Z",
     "iopub.status.idle": "2023-03-05T00:55:01.592328Z",
     "shell.execute_reply": "2023-03-05T00:55:01.590772Z",
     "shell.execute_reply.started": "2023-03-05T00:55:01.540930Z"
    }
   },
   "outputs": [
    {
     "name": "stdout",
     "output_type": "stream",
     "text": [
      "                    Yes        No\n",
      "admin.         0.299658  0.252696\n",
      "blue-collar    0.140023  0.233297\n",
      "technician     0.160775  0.166201\n",
      "services       0.069327  0.100274\n",
      "management     0.070239  0.071119\n",
      "retired        0.090992  0.034803\n",
      "entrepreneur   0.027138  0.036458\n",
      "self-employed  0.033295  0.035460\n",
      "housemaid      0.023033  0.026131\n",
      "unemployed     0.031699  0.024419\n",
      "student        0.049259  0.014035\n"
     ]
    }
   ],
   "source": [
    "# creating job table\n",
    "job_table['Yes'] = account[account['y'] == 'yes']['job'].value_counts() / len(account[account['y'] == 'yes'])\n",
    "job_table['No'] = account[account['y'] == 'no']['job'].value_counts() / len(account[account['y'] == 'no'])\n",
    "\n",
    "# keeping only the Yes and No columns using .loc\n",
    "job_table = job_table.loc[:, ['Yes', 'No']]\n",
    "\n",
    "print(job_table)"
   ]
  },
  {
   "cell_type": "markdown",
   "metadata": {},
   "source": [
    "### Relationship between Education & Term Deposit Subscription \n",
    "\n",
    "Clients with a university degree has the highest term deposit subscription rate **(38.0%)** out of all education variables. "
   ]
  },
  {
   "cell_type": "code",
   "execution_count": 15,
   "metadata": {
    "execution": {
     "iopub.execute_input": "2023-03-04T23:42:47.231786Z",
     "iopub.status.busy": "2023-03-04T23:42:47.231306Z",
     "iopub.status.idle": "2023-03-04T23:42:47.665524Z",
     "shell.execute_reply": "2023-03-04T23:42:47.664630Z",
     "shell.execute_reply.started": "2023-03-04T23:42:47.231750Z"
    }
   },
   "outputs": [
    {
     "data": {
      "image/png": "[encoded data removed]",
      "text/plain": [
       "<Figure size 720x576 with 1 Axes>"
      ]
     },
     "metadata": {
      "needs_background": "light"
     },
     "output_type": "display_data"
    }
   ],
   "source": [
    "# dropping the \"unknown\" and \"illiterate\" row in education\n",
    "account = account.drop(account[account.education.isin(['unknown', 'illiterate'])].index)\n",
    "\n",
    "# Stacked bar plot between client education and term deposit subscription\n",
    "ax = account.groupby([\"education\", \"y\"]).size().unstack().plot(kind = \"bar\", stacked = True, figsize = (10, 8)) # increasing size with a width of 10 in and height of 8 in\n",
    "\n",
    "# Adding plot title and labels\n",
    "plt.title(\"Education vs Term Deposit Subscription\", fontsize = 12)\n",
    "plt.legend([\"No\", \"Yes\"])\n",
    "plt.xlabel(\"Education\", fontsize = 12)\n",
    "plt.ylabel(\"Count\", fontsize = 12)\n",
    "\n",
    "plt.show()"
   ]
  },
  {
   "cell_type": "code",
   "execution_count": 30,
   "metadata": {
    "execution": {
     "iopub.execute_input": "2023-03-05T00:07:47.606489Z",
     "iopub.status.busy": "2023-03-05T00:07:47.606044Z",
     "iopub.status.idle": "2023-03-05T00:07:47.657014Z",
     "shell.execute_reply": "2023-03-05T00:07:47.655898Z",
     "shell.execute_reply.started": "2023-03-05T00:07:47.606454Z"
    }
   },
   "outputs": [
    {
     "name": "stdout",
     "output_type": "stream",
     "text": [
      "                          Yes        No\n",
      "university.degree    0.380844  0.299481\n",
      "high.school          0.235120  0.242027\n",
      "basic.9y             0.107868  0.158955\n",
      "professional.course  0.135690  0.132595\n",
      "basic.4y             0.097605  0.106921\n",
      "basic.6y             0.042873  0.060022\n"
     ]
    }
   ],
   "source": [
    "# creating a new DataFrame with counts and decimal values \n",
    "education_table = pd.DataFrame({'Count': education_count, 'Decimal': education_decimal})\n",
    "\n",
    "# creating education table\n",
    "education_table['Yes'] = account[account['y'] == 'yes']['education'].value_counts() / len(account[account['y'] == 'yes'])\n",
    "education_table['No'] = account[account['y'] == 'no']['education'].value_counts() / len(account[account['y'] == 'no'])\n",
    "\n",
    "# keeping only the Yes and No columns using .loc\n",
    "education_table = education_table.loc[:, ['Yes', 'No']]\n",
    "\n",
    "print(education_table)"
   ]
  },
  {
   "cell_type": "markdown",
   "metadata": {},
   "source": [
    "### Relationship between Housing & Term Deposit Subscription \n",
    "\n",
    "Clients who owe housing loans have a slightly higher term deposit subscription rate **(11.6%)** compared to clients without housing loans **(10.8%)**. "
   ]
  },
  {
   "cell_type": "code",
   "execution_count": 5,
   "metadata": {
    "execution": {
     "iopub.execute_input": "2023-03-07T04:27:33.351028Z",
     "iopub.status.busy": "2023-03-07T04:27:33.350412Z",
     "iopub.status.idle": "2023-03-07T04:27:33.724361Z",
     "shell.execute_reply": "2023-03-07T04:27:33.723310Z",
     "shell.execute_reply.started": "2023-03-07T04:27:33.350994Z"
    }
   },
   "outputs": [
    {
     "data": {
      "image/png": "[encoded data removed]",
      "text/plain": [
       "<Figure size 576x432 with 1 Axes>"
      ]
     },
     "metadata": {
      "needs_background": "light"
     },
     "output_type": "display_data"
    }
   ],
   "source": [
    "# dropping the \"unknown\" row in housing\n",
    "account = account.drop(account[account.housing.isin([\"unknown\"])].index)\n",
    "\n",
    "# Replacing \"yes\" and \"no\" with \"has housing loan\" and \"no housing loan\"\n",
    "account['housing'] = account['housing'].replace({'yes': 'has housing loan', 'no': 'no housing loan'})\n",
    "\n",
    "plt.figure(figsize=(8, 6)) #increase plot size with a width of 10 in and height of 8 in\n",
    "sns.countplot(data=account, x='housing', hue='y')\n",
    "\n",
    "# Adding plot title and labels\n",
    "plt.title(\"Housing vs Term Deposit Subscription\", fontsize = 12)\n",
    "plt.legend([\"No\", \"Yes\"])\n",
    "plt.xlabel(\"Housing\", fontsize = 12)\n",
    "plt.ylabel(\"Count\", fontsize = 12)\n",
    "\n",
    "plt.show()"
   ]
  },
  {
   "cell_type": "code",
   "execution_count": 24,
   "metadata": {
    "execution": {
     "iopub.execute_input": "2023-03-07T04:35:37.063839Z",
     "iopub.status.busy": "2023-03-07T04:35:37.062952Z",
     "iopub.status.idle": "2023-03-07T04:35:37.092913Z",
     "shell.execute_reply": "2023-03-07T04:35:37.091855Z",
     "shell.execute_reply.started": "2023-03-07T04:35:37.063785Z"
    }
   },
   "outputs": [
    {
     "name": "stdout",
     "output_type": "stream",
     "text": [
      "y                       no       yes\n",
      "housing                             \n",
      "has housing loan  0.883806  0.116194\n",
      "no housing loan   0.891204  0.108796\n"
     ]
    }
   ],
   "source": [
    "#Crosstab table of housing\n",
    "housing_table = pd.crosstab(account['housing'], account['y'], normalize='index')\n",
    "print(housing_table)"
   ]
  },
  {
   "cell_type": "markdown",
   "metadata": {},
   "source": [
    "### Relationship between Loans & Term Deposit Subscription \n",
    "\n",
    "Clients with no personal loans are more likely to subscribe to a term deposit **(11.3%)** compared to clients with personal loans **(10.9%)**."
   ]
  },
  {
   "cell_type": "code",
   "execution_count": 25,
   "metadata": {
    "execution": {
     "iopub.execute_input": "2023-03-07T04:53:12.192635Z",
     "iopub.status.busy": "2023-03-07T04:53:12.192218Z",
     "iopub.status.idle": "2023-03-07T04:53:12.448495Z",
     "shell.execute_reply": "2023-03-07T04:53:12.447512Z",
     "shell.execute_reply.started": "2023-03-07T04:53:12.192604Z"
    }
   },
   "outputs": [
    {
     "data": {
      "image/png": "[encoded data removed]",
      "text/plain": [
       "<Figure size 576x432 with 1 Axes>"
      ]
     },
     "metadata": {
      "needs_background": "light"
     },
     "output_type": "display_data"
    }
   ],
   "source": [
    "# Dropping the \"unknown\" row in loan\n",
    "account = account.drop(account[account.loan.isin([\"unknown\"])].index)\n",
    "\n",
    "# Replacing \"yes\" and \"no\" with \"has loan\" and \"no loan\"\n",
    "account['loan'] = account['loan'].replace({'yes': 'has loan', 'no': 'no loan'})\n",
    "\n",
    "plt.figure(figsize=(8, 6)) #increase plot size with a width of 10 in and height of 8 in\n",
    "sns.countplot(data=account, x='loan', hue='y')\n",
    "\n",
    "# Adding plot title and labels\n",
    "plt.title(\"Loan vs Term Deposit Subscription\", fontsize = 12)\n",
    "plt.legend([\"No\", \"Yes\"])\n",
    "plt.xlabel(\"Owes Loan\", fontsize = 12)\n",
    "plt.ylabel(\"Count\", fontsize = 12)\n",
    "\n",
    "plt.show()"
   ]
  },
  {
   "cell_type": "code",
   "execution_count": 26,
   "metadata": {
    "execution": {
     "iopub.execute_input": "2023-03-07T04:53:48.318418Z",
     "iopub.status.busy": "2023-03-07T04:53:48.317542Z",
     "iopub.status.idle": "2023-03-07T04:53:48.347112Z",
     "shell.execute_reply": "2023-03-07T04:53:48.345952Z",
     "shell.execute_reply.started": "2023-03-07T04:53:48.318374Z"
    }
   },
   "outputs": [
    {
     "name": "stdout",
     "output_type": "stream",
     "text": [
      "y               no       yes\n",
      "loan                        \n",
      "has loan  0.890685  0.109315\n",
      "no loan   0.886598  0.113402\n"
     ]
    }
   ],
   "source": [
    "# Crosstab table of loans\n",
    "loan_table = pd.crosstab(account['loan'], account['y'], normalize='index')\n",
    "print(loan_table)"
   ]
  },
  {
   "cell_type": "markdown",
   "metadata": {},
   "source": [
    "---------------------------------------------------------------------------------------------------------------------------------------------------------------------------------------------------------------\n",
    "# Part 3: Utilizing Decision Tree (Random Forest)\n",
    "\n",
    "### Random Forest Defined\n",
    "\"Random Forest is a powerful and versatile supervised machine learning algorithm that grows and combines multiple decision trees to create a “forest.” It can be used for both classification and regression problems in R and Python\" - [CF](https://careerfoundry.com/en/blog/data-analytics/what-is-random-forest/)\n",
    "\n",
    "### Reason for utilizing Random Forest\n",
    "- has high accuracy since it builds multiple decision trees instead of one \n",
    "- produces good predictions that can be understood easily\n",
    "- can handle large datasets efficiently\n",
    "\n",
    "\n"
   ]
  },
  {
   "cell_type": "markdown",
   "metadata": {},
   "source": [
    "## Step 1: Converting Categorical Values into Numeric Values \n",
    "A random forest model requires numerical values to able to predict the given data. Before conducting a random forest, we need to convert the categorical values from our variables of interest. \n"
   ]
  },
  {
   "cell_type": "code",
   "execution_count": 32,
   "metadata": {
    "execution": {
     "iopub.execute_input": "2023-03-06T22:29:39.387396Z",
     "iopub.status.busy": "2023-03-06T22:29:39.386955Z",
     "iopub.status.idle": "2023-03-06T22:29:39.446249Z",
     "shell.execute_reply": "2023-03-06T22:29:39.444973Z",
     "shell.execute_reply.started": "2023-03-06T22:29:39.387364Z"
    }
   },
   "outputs": [
    {
     "data": {
      "text/html": [
       "<div>\n",
       "<style scoped>\n",
       "    .dataframe tbody tr th:only-of-type {\n",
       "        vertical-align: middle;\n",
       "    }\n",
       "\n",
       "    .dataframe tbody tr th {\n",
       "        vertical-align: top;\n",
       "    }\n",
       "\n",
       "    .dataframe thead th {\n",
       "        text-align: right;\n",
       "    }\n",
       "</style>\n",
       "<table border=\"1\" class=\"dataframe\">\n",
       "  <thead>\n",
       "    <tr style=\"text-align: right;\">\n",
       "      <th></th>\n",
       "      <th>age</th>\n",
       "      <th>marital</th>\n",
       "      <th>job</th>\n",
       "      <th>education</th>\n",
       "      <th>housing</th>\n",
       "      <th>loan</th>\n",
       "      <th>subscribed?</th>\n",
       "    </tr>\n",
       "  </thead>\n",
       "  <tbody>\n",
       "    <tr>\n",
       "      <th>0</th>\n",
       "      <td>56</td>\n",
       "      <td>1</td>\n",
       "      <td>3</td>\n",
       "      <td>0</td>\n",
       "      <td>0</td>\n",
       "      <td>0</td>\n",
       "      <td>0</td>\n",
       "    </tr>\n",
       "    <tr>\n",
       "      <th>1</th>\n",
       "      <td>57</td>\n",
       "      <td>1</td>\n",
       "      <td>7</td>\n",
       "      <td>3</td>\n",
       "      <td>0</td>\n",
       "      <td>0</td>\n",
       "      <td>0</td>\n",
       "    </tr>\n",
       "    <tr>\n",
       "      <th>2</th>\n",
       "      <td>37</td>\n",
       "      <td>1</td>\n",
       "      <td>7</td>\n",
       "      <td>3</td>\n",
       "      <td>2</td>\n",
       "      <td>0</td>\n",
       "      <td>0</td>\n",
       "    </tr>\n",
       "    <tr>\n",
       "      <th>3</th>\n",
       "      <td>40</td>\n",
       "      <td>1</td>\n",
       "      <td>0</td>\n",
       "      <td>1</td>\n",
       "      <td>0</td>\n",
       "      <td>0</td>\n",
       "      <td>0</td>\n",
       "    </tr>\n",
       "    <tr>\n",
       "      <th>4</th>\n",
       "      <td>56</td>\n",
       "      <td>1</td>\n",
       "      <td>7</td>\n",
       "      <td>3</td>\n",
       "      <td>0</td>\n",
       "      <td>2</td>\n",
       "      <td>0</td>\n",
       "    </tr>\n",
       "  </tbody>\n",
       "</table>\n",
       "</div>"
      ],
      "text/plain": [
       "   age  marital  job  education  housing  loan  subscribed?\n",
       "0   56        1    3          0        0     0            0\n",
       "1   57        1    7          3        0     0            0\n",
       "2   37        1    7          3        2     0            0\n",
       "3   40        1    0          1        0     0            0\n",
       "4   56        1    7          3        0     2            0"
      ]
     },
     "execution_count": 32,
     "metadata": {},
     "output_type": "execute_result"
    }
   ],
   "source": [
    "# COPYING THE DATAFRAME INTO A COPY VARIABLE: account_copy\n",
    "account_copy = account[['age', 'marital', 'job', 'education', 'housing', 'loan', 'y']].copy()\n",
    "\n",
    "# CONVERTING CATEGORICAL VALUES INTO NUMERIC VALUES\n",
    "account_copy['marital'] = account_copy['marital'].astype('category').cat.codes #converting the categorical values in the marital column to numeric values\n",
    "account_copy['job'] = account_copy['job'].astype('category').cat.codes #converting the categorical values in the job column to numeric values \n",
    "account_copy['education'] = account_copy['education'].astype('category').cat.codes #converting the categorical values in the education column to numeric values\n",
    "account_copy['housing'] = account_copy['housing'].astype('category').cat.codes #converting the categorical values in the y column to numeric values\n",
    "account_copy['loan'] = account_copy['loan'].astype('category').cat.codes #converting the categorical values in the y column to numeric values\n",
    "account_copy['y'] = account_copy['y'].astype('category').cat.codes #converting the categorical values in the y column to numeric values\n",
    "\n",
    "# Renaming \"y\" to \"subscribed?\" since \"y\" label is confusing\n",
    "account_copy.rename(columns = {\"y\":\"subscribed?\"}, inplace = True)\n",
    "\n",
    "account_copy.head()"
   ]
  },
  {
   "cell_type": "markdown",
   "metadata": {},
   "source": [
    "## Step 2: Importing Random Forest and Training Data\n",
    "Once the categorical variables are converted into numerical variables, we can start creating the random forest model. To start off, we need to first import the required random forest classes and split our dataset to a training and testing set. In addition, implementing the RandomOverSampler function is necessary to fix data imbalance. By balancing out the dataset, our model won't be able to make biased predictions.\n",
    "\n",
    "- majority class = clients who didn't subscribed \n",
    "- miniority class = clients who did subscribed"
   ]
  },
  {
   "cell_type": "code",
   "execution_count": 19,
   "metadata": {
    "execution": {
     "iopub.execute_input": "2023-03-17T21:05:05.334056Z",
     "iopub.status.busy": "2023-03-17T21:05:05.333699Z",
     "iopub.status.idle": "2023-03-17T21:05:05.424684Z",
     "shell.execute_reply": "2023-03-17T21:05:05.423724Z",
     "shell.execute_reply.started": "2023-03-17T21:05:05.334028Z"
    }
   },
   "outputs": [],
   "source": [
    "# IMPORTING RANDOM FOREST CLASS \n",
    "from sklearn.ensemble import RandomForestClassifier \n",
    "from sklearn.model_selection import train_test_split \n",
    "from imblearn.over_sampling import RandomOverSampler # Importing oversample to prevent dataset imbalance \n",
    "\n",
    "X = account_copy.drop(labels=['subscribed?'], axis = 1) # keeping every column in account copy except the 'subcribed?'' column \n",
    "y = account_copy['subscribed?'] # assigning the 'subcribed?' column to Y\n",
    "\n",
    "# Oversampling the minority class (clients who subcribed) since the majority class is clients who didn't subscribe\n",
    "oversampler = RandomOverSampler(random_state=42)\n",
    "X_resampled, y_resampled = oversampler.fit_resample(X, y)\n",
    "\n",
    "# Splitting resampled dataset into 70% train and 30% test sets\n",
    "X_train, X_test, y_train, y_test = train_test_split(X_resampled, y_resampled, test_size=0.3, random_state=42)\n",
    "\n",
    "# Instatiate a random forest classifier as 'rf' with 1000 decision trees\n",
    "rf = RandomForestClassifier(n_estimators = 1000, random_state = 42)"
   ]
  },
  {
   "cell_type": "markdown",
   "metadata": {},
   "source": [
    "## Step 3: Random Forest Accuracy\n",
    "We then need to evaulate the accuracy score of our model. The accuaracy score helps us evaluate our model's performance in predicting the selected variables. An accuracy score close to 100% is much preferred, meaning the model is performing well. Based on the score below, our random forest model has an approximate **75%** accuracy, which is a good sign to proceed further to the next steps."
   ]
  },
  {
   "cell_type": "code",
   "execution_count": 7,
   "metadata": {
    "execution": {
     "iopub.execute_input": "2023-03-17T20:58:58.743371Z",
     "iopub.status.busy": "2023-03-17T20:58:58.742984Z",
     "iopub.status.idle": "2023-03-17T20:59:43.672000Z",
     "shell.execute_reply": "2023-03-17T20:59:43.670994Z",
     "shell.execute_reply.started": "2023-03-17T20:58:58.743341Z"
    }
   },
   "outputs": [
    {
     "name": "stdout",
     "output_type": "stream",
     "text": [
      "Random Forest Accuracy: 0.7544347667472296\n"
     ]
    }
   ],
   "source": [
    "from sklearn.metrics import accuracy_score \n",
    "\n",
    "# TRAINING THE RANDOM FOREST MODEL\n",
    "rf.fit(X_train, y_train)\n",
    "\n",
    "# Predicting the test set labels 'y_pred'\n",
    "y_pred = rf.predict(X_test)\n",
    "\n",
    "accuracy = accuracy_score(y_test, y_pred)\n",
    "\n",
    "print('Random Forest Accuracy:', accuracy)"
   ]
  },
  {
   "cell_type": "markdown",
   "metadata": {},
   "source": [
    "## Step 4: Confusion Matrix/ Classification Report\n",
    "Although our accuracy score is approximately **75%**, I wanted to double check the model's performance with the confusion matrix and classification report. \n",
    "\n",
    "From the Confusion Matrix below:\n",
    "- **7,488 (top left)** and **9,056 (bottom right)** are the positive (actual) predictions the model made\n",
    "    - 9,056 clients subscribed\n",
    "    - 7,488 clients didn't subscribe\n",
    "- **3,517 (top right)** and **1,868 (bottom left)** are the negative (incorrect) predictions the model made\n",
    "    - 3,517 clients didn't subscribe\n",
    "    - 1,868 clients did subscribe\n",
    "    \n",
    "Based on the Confusion Matrix, there's no need to be concerned about an imbalanced dataset thanks to the use of the RandomOverSampler function from step 2.  \n",
    "\n",
    "Looking at the Classification Report, we can make the following observations:\n",
    "- **Precision**\n",
    "    - **80%** of the predicted outcomes were classified negative\n",
    "    - **72%** of the predicted outcomes were classified positive\n",
    "- **Recall**\n",
    "    - **68%** of the negative outcomes were identified as \"didn't subcribe\"\n",
    "    - **83%** of the positive outcomes were identified as \"subscribed\"\n",
    "- **f1-score**\n",
    "    - weighted average for the \"didn't subcribe\" group was **74%**\n",
    "    - weighted average for the \"subscribed\" group was **77%**\n",
    "- **accuracy**\n",
    "    - overall accuracy of the random forest model is **75%**\n",
    "- **macro avg**\n",
    "    - precision, recall, and f1-score were around **75-76%**\n",
    "    \n",
    "   \n",
    "Overall, the random forest model performed well in predicting clients who subscribed, but there is room for improvement if given more time. Looking at the AUC score in the ROC curve plot, we obtained a score of **(0.84 or 84%)** which indicates the model performance is acceptable. "
   ]
  },
  {
   "cell_type": "code",
   "execution_count": 13,
   "metadata": {
    "execution": {
     "iopub.execute_input": "2023-03-18T04:01:28.843364Z",
     "iopub.status.busy": "2023-03-18T04:01:28.842975Z",
     "iopub.status.idle": "2023-03-18T04:01:33.374355Z",
     "shell.execute_reply": "2023-03-18T04:01:33.373237Z",
     "shell.execute_reply.started": "2023-03-18T04:01:28.843336Z"
    }
   },
   "outputs": [
    {
     "name": "stdout",
     "output_type": "stream",
     "text": [
      "[[7488 3517]\n",
      " [1868 9056]]\n",
      "                   precision    recall  f1-score   support\n",
      "\n",
      "Did not subscribe       0.80      0.68      0.74     11005\n",
      "       Subscribed       0.72      0.83      0.77     10924\n",
      "\n",
      "         accuracy                           0.75     21929\n",
      "        macro avg       0.76      0.75      0.75     21929\n",
      "     weighted avg       0.76      0.75      0.75     21929\n",
      "\n"
     ]
    }
   ],
   "source": [
    "# Predict and calculate the test set \n",
    "from sklearn.metrics import confusion_matrix, classification_report\n",
    "\n",
    "y_pred = rf.predict(X_test)\n",
    "print(confusion_matrix(y_test, y_pred))\n",
    "print(classification_report(y_test, y_pred, target_names=['Did not subscribe', 'Subscribed']))"
   ]
  },
  {
   "cell_type": "code",
   "execution_count": 14,
   "metadata": {
    "execution": {
     "iopub.execute_input": "2023-03-18T04:01:36.474090Z",
     "iopub.status.busy": "2023-03-18T04:01:36.473716Z",
     "iopub.status.idle": "2023-03-18T04:01:36.811001Z",
     "shell.execute_reply": "2023-03-18T04:01:36.809475Z",
     "shell.execute_reply.started": "2023-03-18T04:01:36.474061Z"
    }
   },
   "outputs": [
    {
     "data": {
      "image/png": "[encoded data removed]",
      "text/plain": [
       "<Figure size 720x576 with 2 Axes>"
      ]
     },
     "metadata": {
      "needs_background": "light"
     },
     "output_type": "display_data"
    }
   ],
   "source": [
    "import seaborn as sns\n",
    "import matplotlib.pyplot as plt\n",
    "from sklearn.metrics import confusion_matrix\n",
    "\n",
    "# Creating confusion matrix\n",
    "cm = confusion_matrix(y_test, y_pred)\n",
    "labels = ['Did not subscribe', 'Subscribed']\n",
    "\n",
    "# Setting figure size\n",
    "plt.figure(figsize=(10, 8))\n",
    "\n",
    "# Plotting heatmap\n",
    "sns.heatmap(cm, annot=True, cmap='Blues', xticklabels=labels, yticklabels=labels)\n",
    "plt.xlabel('Predicted', fontsize=14)\n",
    "plt.ylabel('True',fontsize=14)\n",
    "plt.xticks(fontsize=12)\n",
    "plt.yticks(fontsize=12)\n",
    "plt.show()"
   ]
  },
  {
   "cell_type": "code",
   "execution_count": 23,
   "metadata": {
    "execution": {
     "iopub.execute_input": "2023-03-18T04:18:18.591683Z",
     "iopub.status.busy": "2023-03-18T04:18:18.591293Z",
     "iopub.status.idle": "2023-03-18T04:18:23.302721Z",
     "shell.execute_reply": "2023-03-18T04:18:23.301399Z",
     "shell.execute_reply.started": "2023-03-18T04:18:18.591652Z"
    }
   },
   "outputs": [
    {
     "data": {
      "image/png": "[encoded data removed]",
      "text/plain": [
       "<Figure size 576x432 with 1 Axes>"
      ]
     },
     "metadata": {
      "needs_background": "light"
     },
     "output_type": "display_data"
    }
   ],
   "source": [
    "from sklearn.metrics import roc_curve, auc\n",
    "\n",
    "# Predicted probabilities for test set\n",
    "y_scores = rf.predict_proba(X_test)[:, 1]\n",
    "\n",
    "# Calculating false/true positive rate and thresholds\n",
    "fpr, tpr, thresholds = roc_curve(y_test, y_scores)\n",
    "\n",
    "# area under the curve (AUC)\n",
    "roc_auc = auc(fpr, tpr)\n",
    "\n",
    "# Plotting ROC curve\n",
    "plt.figure(figsize=(8, 6))\n",
    "plt.plot(fpr, tpr, color='darkorange', lw=2, label='ROC curve (AUC = %0.2f)' % roc_auc)\n",
    "plt.plot([0, 1], [0, 1], color='navy', lw=2, linestyle='--')\n",
    "plt.xlabel('False Positive Rate', fontsize=12)\n",
    "plt.ylabel('True Positive Rate', fontsize=12)\n",
    "plt.title('Receiver Operating Characteristic Random Forest with Selected Variables', fontsize=12)\n",
    "plt.legend(loc=\"lower right\")\n",
    "plt.show()"
   ]
  },
  {
   "cell_type": "markdown",
   "metadata": {},
   "source": [
    "## Step 5: Collecting Feature Importance\n",
    "After evaluating the model performance, I wanted to go back at the random forest model with Feature Importance. Feature importance helps us understand which selected variable has the most influence on our model. Based on the feature importance:  \n",
    "- age has the most influence plus the highest importance at approximately **60%**\n",
    "- job has the second most influence at approximately **17%**\n",
    "- education has the third most influence at approximately **11%**\n",
    "- marital has the third least influence at approximately **5%**\n",
    "- housing has the second least influence at approximately **3%**\n",
    "- loan has the least importance at **3%**"
   ]
  },
  {
   "cell_type": "code",
   "execution_count": 8,
   "metadata": {
    "execution": {
     "iopub.execute_input": "2023-03-17T21:00:38.084829Z",
     "iopub.status.busy": "2023-03-17T21:00:38.084427Z",
     "iopub.status.idle": "2023-03-17T21:00:38.254975Z",
     "shell.execute_reply": "2023-03-17T21:00:38.253989Z",
     "shell.execute_reply.started": "2023-03-17T21:00:38.084797Z"
    }
   },
   "outputs": [
    {
     "name": "stdout",
     "output_type": "stream",
     "text": [
      "           Importance\n",
      "age          0.604859\n",
      "job          0.168357\n",
      "education    0.112500\n",
      "marital      0.049892\n",
      "housing      0.032698\n",
      "loan         0.031693\n"
     ]
    }
   ],
   "source": [
    "# COLLECTING FEATURE IMPORTANCES\n",
    "\n",
    "importances = rf.feature_importances_\n",
    "\n",
    "feat_importances = pd.DataFrame(importances, index = X_train.columns, columns = ['Importance'])\n",
    "feat_importances = feat_importances.sort_values(by ='Importance', ascending = False)\n",
    "\n",
    "print(feat_importances)"
   ]
  },
  {
   "cell_type": "code",
   "execution_count": 9,
   "metadata": {
    "execution": {
     "iopub.execute_input": "2023-03-17T21:00:55.425363Z",
     "iopub.status.busy": "2023-03-17T21:00:55.424931Z",
     "iopub.status.idle": "2023-03-17T21:00:55.682771Z",
     "shell.execute_reply": "2023-03-17T21:00:55.681040Z",
     "shell.execute_reply.started": "2023-03-17T21:00:55.425329Z"
    }
   },
   "outputs": [
    {
     "data": {
      "image/png": "[encoded data removed]",
      "text/plain": [
       "<Figure size 720x576 with 1 Axes>"
      ]
     },
     "metadata": {
      "needs_background": "light"
     },
     "output_type": "display_data"
    }
   ],
   "source": [
    "import matplotlib.pyplot as plt\n",
    "\n",
    "# Creating horizontal bar plot\n",
    "fig, ax = plt.subplots(figsize=(8, 5)) # set the figure size\n",
    "feat_importances.plot.barh(ax=ax, color = 'blue', figsize = (10,8))\n",
    "\n",
    "# Adding axis labels \n",
    "ax.set_xlabel('Importance', fontsize = 12)\n",
    "ax.set_ylabel('Features', fontsize = 12)\n",
    "ax.set_title('Feature Importances', fontsize = 12)\n",
    "\n",
    "plt.show()"
   ]
  },
  {
   "cell_type": "markdown",
   "metadata": {},
   "source": [
    "## Step 6: Feature Importance Analysis\n",
    "Based on the feature importance graph created from the random forest model, we can see **age has the highest importance rate with approximately 60%** and **job being the second highest with 17%**. Since my business question revolves around these two selected variables, it's best to conduct further analysis. To do so, I created two crosstab tables for each of my selected variable. \n",
    "\n",
    "### Age Crosstab Table\n",
    "  \n",
    "The first crosstab table consist of the relation with age group and term deposit subscription. Although I already conducted an analysis between age and term deposit subscription with a histogram, I wanted to categorize the ages into age groups to find any relevant patterns. The crosstab table consist of five age groups:  \n",
    "- **Teen (age 13-17)**\n",
    "- **Young Adult (age 18-20)**\n",
    "- **Official Adult (age 21-29)**\n",
    "- **Middle Age (age 30-60)**\n",
    "- **Elderly (age 65, 100)**\n",
    "\n",
    "Based on the age crosstab table, we can make the following observations:\n",
    "- The percentage calculation is based on total # of yes response divided by total of yes and no responses   \n",
    "  - **Ex**\n",
    "      - Teen group calculation\n",
    "      - 14 / (14 + 19) \n",
    "      - 14 / 33 \n",
    "      - 0.4242 * 100 \n",
    "      - 42.42\n",
    "- Looking at the counts column, the **middle age group** has the highest count of term deposit subscription with **3,226 clients** but a subscription rate of **9.72%**\n",
    "- The **official adults group** has the second highest term deposit subscription count with **1,038 clients** but a subscription rate of **14.54%**\n",
    "- The **teen** and **elderly** group has the highest subscription rate out of all other age groups with **42.42%** and **46.85%**\n",
    "    - High subscription rate may be due to a closely distributed amount of yes and no responses compared to other age groups\n",
    "\n",
    "### Job Crosstab Table  \n",
    "\n",
    "The second crosstab table consist of the relation with job group and term deposit subscription. Similar to the previous age histogram analysis, I wanted to dive a bit deeper with the job group by categorizing the job roles between:  \n",
    "\n",
    "- **Blue collar**  \n",
    "    - blue collar\n",
    "    - technician\n",
    "    - services\n",
    "- **White collar**\n",
    "    - management\n",
    "    - admin\n",
    "- **Other**\n",
    "    - retired\n",
    "    - self-employed\n",
    "    - entrepreneur\n",
    "    - unemployed\n",
    "    - housemaid\n",
    "    - student\n",
    "    - unknown\n",
    "\n",
    "Focusing on blue collar and white collar jobs, we can make the following observations on the job crosstab table:  \n",
    "- looking at the counts column, **blue-collar jobs** has the highest count of term deposit subscription with **911** clients and the highest subscription rate with **15.02%**\n",
    "- **White-collar jobs** has the lowest count of term deposit subscription with **230** clients and subscription rate with **9.14%**"
   ]
  },
  {
   "cell_type": "code",
   "execution_count": 12,
   "metadata": {
    "execution": {
     "iopub.execute_input": "2023-03-17T21:01:37.017771Z",
     "iopub.status.busy": "2023-03-17T21:01:37.017367Z",
     "iopub.status.idle": "2023-03-17T21:01:37.046368Z",
     "shell.execute_reply": "2023-03-17T21:01:37.045124Z",
     "shell.execute_reply.started": "2023-03-17T21:01:37.017735Z"
    }
   },
   "outputs": [
    {
     "name": "stdout",
     "output_type": "stream",
     "text": [
      "subscribed?        No   Yes Subscribed %\n",
      "age_group                               \n",
      "Teen               19    14       42.42%\n",
      "Young Adult       137    72       34.45%\n",
      "Official Adult   6103  1038       14.54%\n",
      "Middle Age      29960  3226        9.72%\n",
      "Elderly           329   290       46.85%\n"
     ]
    }
   ],
   "source": [
    "# Defining the age group ranges and labels\n",
    "age_ranges = [(13, 17), (18, 20), (21, 29), (30, 60), (65, 100)]\n",
    "age_labels = ['Teen', 'Young Adult', 'Official Adult', 'Middle Age', 'Elderly']\n",
    "\n",
    "# assigning an age group label to each row based on age_ranges and age_labels\n",
    "account_copy['age_group'] = pd.cut(account_copy['age'], bins=[r[0] for r in age_ranges] + [age_ranges[-1][-1]], labels=age_labels)\n",
    "\n",
    "# crosstab table between subscription status and age group\n",
    "age_sub = pd.crosstab(account_copy['age_group'], account_copy['subscribed?'])\n",
    "\n",
    "# Calculation of the percentage of subscribers in each age group\n",
    "age_sub['Subscribed %'] = age_sub[1] / (age_sub[0] + age_sub[1]) * 100\n",
    "\n",
    "# Formatting the 'Subscribed %' column as a string with two decimal places \n",
    "age_sub['Subscribed %'] = age_sub['Subscribed %'].map('{:.2f}%'.format)\n",
    "\n",
    "# Renaming 0 and 1 with 'No' and 'Yes'\n",
    "age_sub = age_sub.rename(columns={0:'No', 1:'Yes'})\n",
    "\n",
    "print(age_sub)"
   ]
  },
  {
   "cell_type": "code",
   "execution_count": 13,
   "metadata": {
    "execution": {
     "iopub.execute_input": "2023-03-17T21:02:16.036379Z",
     "iopub.status.busy": "2023-03-17T21:02:16.035984Z",
     "iopub.status.idle": "2023-03-17T21:02:16.202779Z",
     "shell.execute_reply": "2023-03-17T21:02:16.201852Z",
     "shell.execute_reply.started": "2023-03-17T21:02:16.036337Z"
    }
   },
   "outputs": [
    {
     "data": {
      "image/png": "[encoded data removed]",
      "text/plain": [
       "<Figure size 720x576 with 1 Axes>"
      ]
     },
     "metadata": {
      "needs_background": "light"
     },
     "output_type": "display_data"
    }
   ],
   "source": [
    "import matplotlib.pyplot as plt\n",
    "\n",
    "# Creating the stacked bar chart\n",
    "age_sub[['No', 'Yes']].plot(kind='bar', stacked=True, figsize = (10, 8))\n",
    "\n",
    "# chart title and label\n",
    "plt.title('Subscription Status by Age Group', fontsize = 12)\n",
    "plt.xlabel('Age Group', fontsize = 12)\n",
    "plt.ylabel('Count', fontsize = 12)\n",
    "\n",
    "plt.show()"
   ]
  },
  {
   "cell_type": "code",
   "execution_count": 26,
   "metadata": {
    "execution": {
     "iopub.execute_input": "2023-03-18T05:29:26.620122Z",
     "iopub.status.busy": "2023-03-18T05:29:26.619765Z",
     "iopub.status.idle": "2023-03-18T05:29:26.634981Z",
     "shell.execute_reply": "2023-03-18T05:29:26.633798Z",
     "shell.execute_reply.started": "2023-03-18T05:29:26.620094Z"
    }
   },
   "outputs": [],
   "source": [
    "# Defining a dictionary that maps job titles to numeric values\n",
    "job_map = {\n",
    "    'management': 1,\n",
    "    'admin.': 2,\n",
    "    'blue-collar': 3,\n",
    "    'technician': 4,\n",
    "    'services': 5,\n",
    "    'retired': 6,\n",
    "    'self-employed': 7,\n",
    "    'entrepreneur': 8,\n",
    "    'unemployed': 9,\n",
    "    'housemaid': 10,\n",
    "    'student': 11,\n",
    "    'unknown': 12\n",
    "}\n",
    "\n",
    "# applying mapping to the job column\n",
    "account_copy['job_code'] = account_copy['job'].map(job_map)\n",
    "\n",
    "# Defining job group ranges and labels\n",
    "job_group_ranges = [(1,2), (3, 4, 5,), (6,7,8,9,10,11,12)]\n",
    "job_group = ['White-collar jobs', 'Blue-collar jobs', 'Other']"
   ]
  },
  {
   "cell_type": "code",
   "execution_count": 27,
   "metadata": {
    "execution": {
     "iopub.execute_input": "2023-03-18T05:29:28.701187Z",
     "iopub.status.busy": "2023-03-18T05:29:28.700581Z",
     "iopub.status.idle": "2023-03-18T05:29:28.755313Z",
     "shell.execute_reply": "2023-03-18T05:29:28.754286Z",
     "shell.execute_reply.started": "2023-03-18T05:29:28.701155Z"
    }
   },
   "outputs": [
    {
     "name": "stdout",
     "output_type": "stream",
     "text": [
      "subscribed?           No   Yes Subscribed %\n",
      "job_group                                  \n",
      "White-collar jobs   2286   230        9.14%\n",
      "Blue-collar jobs    5154   911       15.02%\n",
      "Other              11422  1509       11.67%\n"
     ]
    }
   ],
   "source": [
    "# assigning an job group label to each row based on job_ranges and job_labels\n",
    "account_copy['job_group'] = pd.cut(account_copy['job'], bins=[r[0] for r in job_group_ranges] + [job_group_ranges[-1][-1]], labels=job_group)\n",
    "\n",
    "# crosstab table between subscription and job group\n",
    "job_sub = pd.crosstab(account_copy['job_group'], account_copy['subscribed?'])\n",
    "\n",
    "# Calculation of percentage of subscribers within each job group\n",
    "job_sub['Subscribed %'] = job_sub[1] / (job_sub[0] + job_sub[1]) * 100\n",
    "\n",
    "# Formatting the 'Subscribed %' column as a string with two decimal places\n",
    "job_sub['Subscribed %'] = job_sub['Subscribed %'].map('{:.2f}%'.format)\n",
    "\n",
    "# Renaming 0 and 1 with 'No' and 'Yes' \n",
    "job_sub = job_sub.rename(columns={0:'No', 1:'Yes'})\n",
    "\n",
    "print(job_sub)"
   ]
  },
  {
   "cell_type": "code",
   "execution_count": 17,
   "metadata": {
    "execution": {
     "iopub.execute_input": "2023-03-17T21:02:47.276545Z",
     "iopub.status.busy": "2023-03-17T21:02:47.276174Z",
     "iopub.status.idle": "2023-03-17T21:02:47.431988Z",
     "shell.execute_reply": "2023-03-17T21:02:47.431341Z",
     "shell.execute_reply.started": "2023-03-17T21:02:47.276513Z"
    }
   },
   "outputs": [
    {
     "data": {
      "image/png": "[encoded data removed]",
      "text/plain": [
       "<Figure size 720x576 with 1 Axes>"
      ]
     },
     "metadata": {
      "needs_background": "light"
     },
     "output_type": "display_data"
    }
   ],
   "source": [
    "import matplotlib.pyplot as plt\n",
    "\n",
    "# Creating the stacked bar chart\n",
    "job_sub[['No', 'Yes']].plot(kind='bar', stacked=True, figsize = (10, 8))\n",
    "\n",
    "# plot title and label\n",
    "plt.title('Subscription Status by Job Group', fontsize = 12)\n",
    "plt.xlabel('Job Group', fontsize = 12)\n",
    "plt.ylabel('Count', fontsize = 12)\n",
    "\n",
    "plt.show()"
   ]
  }
 ],
 "metadata": {
  "kernelspec": {
   "display_name": "Python 3 (ipykernel)",
   "language": "python",
   "name": "python3"
  },
  "language_info": {
   "codemirror_mode": {
    "name": "ipython",
    "version": 3
   },
   "file_extension": ".py",
   "mimetype": "text/x-python",
   "name": "python",
   "nbconvert_exporter": "python",
   "pygments_lexer": "ipython3",
   "version": "3.9.13"
  }
 },
 "nbformat": 4,
 "nbformat_minor": 4
}
